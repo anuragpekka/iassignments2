{
 "cells": [
  {
   "cell_type": "markdown",
   "id": "994a9022",
   "metadata": {},
   "source": [
    "## Python_Advance_Assignment_17"
   ]
  },
  {
   "cell_type": "markdown",
   "id": "1",
   "metadata": {},
   "source": [
    "<b>1. Explain the difference between greedy and non-greedy syntax with visual terms in as few words as possible. What is the bare minimum effort required to transform a greedy pattern into a non-greedy one? What characters or characters can you introduce or change?</b><br>Answer:\n",
    "\n",
    "If the Regular expression <.*> is matched against '&lt;H1&gt;title&lt;/H1&gt;', it will match the entire string, and not just '&lt;H1&gt;'then it is \"Greedy\". <br>\n",
    "A regular expression which does match just '&lt;H1&gt;' is \"Non-greedy\".\n",
    "\n",
    "Bare minimum effort required is adding '?' after the qualifier to make it perform the match in non-greedy or minimal fashion; as few characters as possible will be matched. Using __.*?__ in the previous expression will match only '&lt;H1&gt;'."
   ]
  },
  {
   "cell_type": "markdown",
   "id": "2",
   "metadata": {},
   "source": [
    "<b>2. When exactly does greedy versus non-greedy make a difference?  What if you're looking for a non-greedy match but the only one available is greedy?</b><br>Answer:<br>\n",
    "\n",
    "Greedy versus non-greedy make a difference when there is a need for minimal pattern matching. By default all the quantifirs are \"greedy\".\n",
    "<br>If you're looking for a non-greedy match but the only one available is greedy then you will get the \"greedy\" match."
   ]
  },
  {
   "cell_type": "markdown",
   "id": "3",
   "metadata": {},
   "source": [
    "<b>3. In a simple match of a string, which looks only for one match and does not do any replacement, is the use of a nontagged group likely to make any practical difference?\n",
    "    \n",
    "Answer:<br>\n",
    "The use of a nontagged group will show an error like _\"IndexError: no such group\"_."
   ]
  },
  {
   "cell_type": "markdown",
   "id": "4",
   "metadata": {},
   "source": [
    "<b>4. Describe a scenario in which using a nontagged category would have a significant impact on the program's outcomes.</b><br>Answer:<br>\n",
    "Following is a scenario where we are using a nontagged category. The is are only 3 group catagories - 1,2 and 3. <br>\n",
    "We are using '4' which will give an error like _\"IndexError: no such group\"_."
   ]
  },
  {
   "cell_type": "code",
   "execution_count": 22,
   "id": "4bac87f3",
   "metadata": {},
   "outputs": [
    {
     "ename": "IndexError",
     "evalue": "no such group",
     "output_type": "error",
     "traceback": [
      "\u001b[1;31m---------------------------------------------------------------------------\u001b[0m",
      "\u001b[1;31mIndexError\u001b[0m                                Traceback (most recent call last)",
      "\u001b[1;32m~\\AppData\\Local\\Temp/ipykernel_15752/2230632769.py\u001b[0m in \u001b[0;36m<module>\u001b[1;34m\u001b[0m\n\u001b[0;32m      4\u001b[0m \u001b[0mrecord\u001b[0m \u001b[1;33m=\u001b[0m \u001b[1;34m'Jones 143 x1134'\u001b[0m\u001b[1;33m\u001b[0m\u001b[1;33m\u001b[0m\u001b[0m\n\u001b[0;32m      5\u001b[0m \u001b[0mm\u001b[0m \u001b[1;33m=\u001b[0m \u001b[0mrecpat\u001b[0m\u001b[1;33m.\u001b[0m\u001b[0mmatch\u001b[0m\u001b[1;33m(\u001b[0m\u001b[0mrecord\u001b[0m\u001b[1;33m)\u001b[0m\u001b[1;33m\u001b[0m\u001b[1;33m\u001b[0m\u001b[0m\n\u001b[1;32m----> 6\u001b[1;33m \u001b[0mm\u001b[0m\u001b[1;33m.\u001b[0m\u001b[0mgroup\u001b[0m\u001b[1;33m(\u001b[0m\u001b[1;36m4\u001b[0m\u001b[1;33m)\u001b[0m\u001b[1;33m\u001b[0m\u001b[1;33m\u001b[0m\u001b[0m\n\u001b[0m",
      "\u001b[1;31mIndexError\u001b[0m: no such group"
     ]
    }
   ],
   "source": [
    "import re\n",
    "recpat = re.compile(r'(\\w+) (\\d+) (x?[0-9-]+)')\n",
    "\n",
    "record = 'Jones 143 x1134'   \n",
    "m = recpat.match(record)                 \n",
    "m.group(4)      \n"
   ]
  },
  {
   "cell_type": "markdown",
   "id": "5",
   "metadata": {},
   "source": [
    "<b>5. Unlike a normal regex pattern, a look-ahead condition does not consume the characters it examines. Describe a situation in which this could make a difference in the results of your programme.</b><br>Answer:<br>\n",
    "One situation in which we can use a look-ahead condition is when we are want to find words that are last in a sentence, i.e, word followed by '.' or '?'.\n",
    "Say the expression to be searched is \"Regex is my love. Regex is my favourite. Do you love regex?\".<br>\n",
    "Here, we only want the word and not the punctuation '.' or '?' after it."
   ]
  },
  {
   "cell_type": "code",
   "execution_count": 82,
   "id": "8f22fc26",
   "metadata": {},
   "outputs": [
    {
     "name": "stdout",
     "output_type": "stream",
     "text": [
      "['love', 'favourite', 'regex']\n"
     ]
    }
   ],
   "source": [
    "import re\n",
    "\n",
    "expression = \"Regex is my love. Regex is my favourite. Do you love regex?!\"  \n",
    "             \n",
    "pattern = re.compile(\"\\w+(?=\\.|\\!|\\?)\")\n",
    "\n",
    "m = pattern.findall(expression)\n",
    "print(m)\n"
   ]
  },
  {
   "cell_type": "markdown",
   "id": "6",
   "metadata": {},
   "source": [
    "<b>6. In standard expressions, what is the difference between positive look-ahead and negative look-ahead?</b><br>Answer:<br>\n",
    "The _negative lookahead_ construct is the pair of parentheses, with the opening parenthesis followed by a question mark and an exclamation point. q(?!u) matches a q that is not followed by a u.\n",
    "\n",
    "_Positive lookahead_ works just the opposite. q(?=u) matches a q that is followed by a u, without making the u part of the match. The positive lookahead construct is a pair of parentheses, with the opening parenthesis followed by a question mark and an equals sign."
   ]
  },
  {
   "cell_type": "markdown",
   "id": "7",
   "metadata": {},
   "source": [
    "<b>7. What is the benefit of referring to groups by name rather than by number in a standard expression?</b><br>Answer:<br>\n",
    "By referring to groups by name we can make the regex more meaningfull. We can name the groups and know which group contains what pattern."
   ]
  },
  {
   "cell_type": "markdown",
   "id": "8",
   "metadata": {},
   "source": [
    "<b>8. Can you identify repeated items within a target string using named groups, as in 'The cow jumped over the moon'?</b><br>Answer:<br>No, we cannot identify repeated items within a target string using named groups."
   ]
  },
  {
   "cell_type": "markdown",
   "id": "9",
   "metadata": {},
   "source": [
    "<b>9. When parsing a string, what is at least one thing that the Scanner interface does for you that the re.findall feature does not?</b><br>Answer:<br>\n",
    "re.Scanner() lets you to pass a matched expression to a function. re.findall() does not have this facility.\n",
    "<br>_Example_:"
   ]
  },
  {
   "cell_type": "code",
   "execution_count": 85,
   "id": "39942fd2",
   "metadata": {},
   "outputs": [
    {
     "name": "stdout",
     "output_type": "stream",
     "text": [
      "[(<TokenType.Integer: 1>, 1024),\n",
      " (<TokenType.Float: 2>, 3.14),\n",
      " (<TokenType.String: 4>, 'hello world!'),\n",
      " (<TokenType.Control: 5>, '{'),\n",
      " (<TokenType.Bool: 3>, True),\n",
      " (<TokenType.String: 4>, 'foobar2000'),\n",
      " (<TokenType.Control: 5>, '}')]\n"
     ]
    }
   ],
   "source": [
    "import re\n",
    "from pprint import pprint\n",
    "from enum import Enum\n",
    "\n",
    "class TokenType(Enum):\n",
    "    Integer = 1\n",
    "    Float = 2\n",
    "    Bool = 3\n",
    "    String = 4\n",
    "    Control = 5\n",
    "\n",
    "# note: order is important! most generic patterns always go to the bottom\n",
    "scanner = re.Scanner([\n",
    "    (r\"[{}]\", lambda s, t:(TokenType.Control, t)),\n",
    "    (r\"\\d+\\.\\d*\", lambda s, t:(TokenType.Float, float(t))),\n",
    "    (r\"\\d+\", lambda s, t:(TokenType.Integer, int(t))),\n",
    "    (r\"true|false+\", lambda s, t:(TokenType.Bool, t == \"true\")),\n",
    "    (r\"'[^']+'\", lambda s, t:(TokenType.String, t[1:-1])),\n",
    "    (r\"\\w+\", lambda s, t:(TokenType.String, t)),\n",
    "    (r\".\", lambda s, t: None), # ignore unmatched parts\n",
    "])\n",
    "\n",
    "\n",
    "input = \"1024 3.14 'hello world!' { true foobar2000 } []\"\n",
    "\n",
    "# \"unknown\" contains unmatched text, check it for error handling\n",
    "tokens, unknown = scanner.scan(input)\n",
    "\n",
    "pprint(tokens)\n"
   ]
  },
  {
   "cell_type": "markdown",
   "id": "10",
   "metadata": {},
   "source": [
    "<b>10. Does a scanner object have to be named scanner?</b><br>Answer:<br>\n",
    "No,  a scanner object does not has to be named scanner."
   ]
  },
  {
   "cell_type": "code",
   "execution_count": null,
   "id": "56987719",
   "metadata": {},
   "outputs": [],
   "source": []
  }
 ],
 "metadata": {
  "kernelspec": {
   "display_name": "Python 3 (ipykernel)",
   "language": "python",
   "name": "python3"
  },
  "language_info": {
   "codemirror_mode": {
    "name": "ipython",
    "version": 3
   },
   "file_extension": ".py",
   "mimetype": "text/x-python",
   "name": "python",
   "nbconvert_exporter": "python",
   "pygments_lexer": "ipython3",
   "version": "3.9.7"
  }
 },
 "nbformat": 4,
 "nbformat_minor": 5
}
