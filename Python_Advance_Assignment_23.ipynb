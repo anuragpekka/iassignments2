{
 "cells": [
  {
   "cell_type": "markdown",
   "id": "994a9022",
   "metadata": {},
   "source": [
    "## Python_Advance_Assignment_23"
   ]
  },
  {
   "cell_type": "markdown",
   "id": "1",
   "metadata": {},
   "source": [
    "<b>1. If you have any, what are your choices for increasing the comparison between different figures on the same graph?</b><br>Answer:<br>\n",
    "In Matplotlib, we can draw multiple graphs in a single plot in two ways.\n",
    "* One is by using matplotlib.pyplot.subplots() function\n",
    "* other by superimposition of second graph on the first i.e, all graphs will appear on the same plot. We will look into both the ways one by one. You can use the _label_ parameter."
   ]
  },
  {
   "cell_type": "markdown",
   "id": "2",
   "metadata": {},
   "source": [
    "<b>2. Can you explain the benefit of compound interest over a higher rate of interest that does not compound after reading this chapter?</b><br>Answer:<br>"
   ]
  },
  {
   "cell_type": "code",
   "execution_count": 33,
   "id": "44a89246",
   "metadata": {},
   "outputs": [
    {
     "name": "stdout",
     "output_type": "stream",
     "text": [
      "Compound Intrest= 64.700949769028\n"
     ]
    }
   ],
   "source": [
    "'''\n",
    "Question:\n",
    "Future value after 10 years of saving $100.\n",
    "Assume the interest rate is 5% (annually)\n",
    "compounded monthly ?\n",
    "'''\n",
    "\n",
    "# Calculating Compound Intrest\n",
    "import numpy_financial as npf\n",
    "principal=100\n",
    "rate=0.05    #5 %\n",
    "time=10   #years\n",
    "amount = npf.fv(rate/12, time*12, 0, -principal)\n",
    "\n",
    "print(\"Compound Intrest=\", amount-principal)"
   ]
  },
  {
   "cell_type": "code",
   "execution_count": 37,
   "id": "3f9ed22e",
   "metadata": {},
   "outputs": [
    {
     "name": "stdout",
     "output_type": "stream",
     "text": [
      "Simple Intrest= 50.0\n"
     ]
    }
   ],
   "source": [
    "#Calculating simple intrest\n",
    "SI=principal*5*time/100\n",
    "print(\"Simple Intrest=\",SI)"
   ]
  },
  {
   "cell_type": "markdown",
   "id": "094108c9",
   "metadata": {},
   "source": [
    "We see that the intrest is more when compounded."
   ]
  },
  {
   "cell_type": "markdown",
   "id": "3",
   "metadata": {},
   "source": [
    "<b>3. What is a histogram, exactly? Name a numpy method for creating such a graph.</b><br>Answer:<br>\n",
    "A histogram is the best way to visualize the _frequency distribution_ of a dataset by splitting it into small equal-sized intervals called _bins_.<br>\n",
    "Numpy has a built-in _numpy.histogram()_ function which represents the frequency of data distribution in the graphical form. The rectangles having equal horizontal size corresponds to class interval called bin and variable height corresponding to the frequency.<br>\n"
   ]
  },
  {
   "cell_type": "code",
   "execution_count": 5,
   "id": "d3fa605b",
   "metadata": {},
   "outputs": [
    {
     "name": "stdout",
     "output_type": "stream",
     "text": [
      "[5 4 5 6 6 7 3 4 6 4]\n",
      "[  0  10  20  30  40  50  60  70  80  90 100]\n"
     ]
    }
   ],
   "source": [
    "#Import libraries\n",
    "import numpy as np\n",
    "\n",
    "#Creating dataset\n",
    "a = np.random.randint(100, size=(50))\n",
    "\n",
    "#Creating histogram\n",
    "hist, bins = np.histogram(a, bins = [0, 10,\n",
    "                                    20, 30,\n",
    "                                    40, 50,\n",
    "                                    60, 70,\n",
    "                                    80, 90,\n",
    "                                    100])\n",
    "\n",
    "#printing histogram\n",
    "print(hist)\n",
    "print(bins)\n"
   ]
  },
  {
   "cell_type": "raw",
   "id": "149ae2a3",
   "metadata": {},
   "source": [
    "#import libraries\n",
    "from matplotlib import pyplot as plt\n",
    "import numpy as np\n",
    "\n",
    "#Creating dataset\n",
    "a=np.random.randint(100, size =(50))\n",
    "\n",
    "#Creating plot\n",
    "fig=plt.figure(figsize =(10, 7))\n",
    "\n",
    "plt.hist(a, bins = [0, 10, 20, 30,\n",
    "                    40, 50, 60, 70,\n",
    "                    80, 90, 100])\n",
    "\n",
    "plt.title(\"Numpy Histogram\")\n",
    "\n",
    "#show plot\n",
    "plt.show()\n"
   ]
  },
  {
   "cell_type": "markdown",
   "id": "4",
   "metadata": {},
   "source": [
    "<b>4. If necessary, how do you change the aspect ratios between the X and Y axes?</b><br>Answer:<br>\n",
    "The aspect ratio of an image plotted by module matplotlib can be changed by parameter figsize in matplotlib.figure(), like, <br>\n",
    "_matplotlib.figure(figsize =(Width, height))_"
   ]
  },
  {
   "cell_type": "markdown",
   "id": "5",
   "metadata": {},
   "source": [
    "<b>5. Compare and contrast the three types of array multiplication between two numpy arrays: dot product, outer product, and regular multiplication of two numpy arrays.</b><br>Answer:<br>\n",
    "__Dot product__: numpy.dot(vector_a, vector_b, out = None) returns the dot product of vectors a and b. It can handle 2D arrays but considers them as matrix and will perform matrix multiplication. For _N_ dimensions it is a sum-product over the last axis of _a_ and the second-to-last of _b_:<br>\n",
    "dot(a, b)[i,j,k,m ] = sum(a[i,j,:] * b[k,:,m]) \n",
    " \n",
    "__Outer product__: use the numpy.outer() method in Python. The 1st parameter _a_ is the first input vector. Input is flattened if not already 1-dimensional. The 2nd parameter _b_ is the second input vector. Input is flattened if not already 1-dimensional. The 3rd parameter _out_ is a location where the result is stored.<br>\n",
    "Given two vectors, a = [a0, a1, ..., aM] and b = [b0, b1, ..., bN], the outer product [1] is =\n",
    "\n",
    "[[a0\\*b0 a0\\*b1 ... a0\\*bN ]<br>\n",
    "[a1\\*b0 .<br>\n",
    "[ ... .<br>\n",
    "[aM\\*b0 aM\\*bN ]]<br>\n",
    "\n",
    "\n",
    "__Regular multiplication__: numpy.multiply() function is used when we want to compute the multiplication of two array. It returns the product of arr1 and arr2, element-wise( or Hadamard Product). "
   ]
  },
  {
   "cell_type": "raw",
   "id": "8d846a83",
   "metadata": {},
   "source": [
    "import numpy as np\n",
    "\n",
    "A = np.array([[1, 3, 5, 7, 9], [2, 4, 6, 8, 10]])\n",
    "\n",
    "B = np.array([[1, 2, 3, 4, 5], [5, 4, 3, 2, 1]])\n",
    "\n",
    "print(np.multiply(A,B))"
   ]
  },
  {
   "cell_type": "markdown",
   "id": "6",
   "metadata": {},
   "source": [
    "<b>6. Before you buy a home, which numpy function will you use to measure your monthly mortgage payment?</b><br>Answer:<br>\n",
    "The numpy.pmt() function is used to compute the payment against loan principal plus interest.<br>\n",
    "Syntax: _numpy.pmt(rate, nper, pv, fv=0, when='end')_"
   ]
  },
  {
   "cell_type": "markdown",
   "id": "7",
   "metadata": {},
   "source": [
    "<b>7. Can string data be stored in numpy arrays? If so, list at least one restriction that applies to this data.</b><br>Answer:<br>\n",
    "class numpy.chararray provides a convenient view on arrays of string and unicode values.<br>\n",
    "Syntax: _class numpy.chararray(shape, itemsize=1, unicode=False, buffer=None, offset=0, strides=None, order=None)_\n",
    "\n",
    "One restriction that we can apply is the size of the strings in the array by parameter _itemsize_."
   ]
  },
  {
   "cell_type": "code",
   "execution_count": 7,
   "id": "3e6cc6dd",
   "metadata": {},
   "outputs": [
    {
     "data": {
      "text/plain": [
       "chararray([[b'abc', b'abc', b'abc'],\n",
       "           [b'abc', b'abc', b'abc'],\n",
       "           [b'abc', b'abc', b'abc']], dtype='|S5')"
      ]
     },
     "execution_count": 7,
     "metadata": {},
     "output_type": "execute_result"
    }
   ],
   "source": [
    "#Example\n",
    "charar = np.chararray((3,3), itemsize=5)\n",
    "charar[:] = 'abc'\n",
    "charar"
   ]
  },
  {
   "cell_type": "code",
   "execution_count": null,
   "id": "d18cc687",
   "metadata": {},
   "outputs": [],
   "source": []
  }
 ],
 "metadata": {
  "kernelspec": {
   "display_name": "Python 3 (ipykernel)",
   "language": "python",
   "name": "python3"
  },
  "language_info": {
   "codemirror_mode": {
    "name": "ipython",
    "version": 3
   },
   "file_extension": ".py",
   "mimetype": "text/x-python",
   "name": "python",
   "nbconvert_exporter": "python",
   "pygments_lexer": "ipython3",
   "version": "3.9.7"
  }
 },
 "nbformat": 4,
 "nbformat_minor": 5
}
