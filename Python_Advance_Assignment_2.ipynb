{
 "cells": [
  {
   "cell_type": "markdown",
   "id": "994a9022",
   "metadata": {},
   "source": [
    "## Python_Advance_Assignment_2"
   ]
  },
  {
   "cell_type": "markdown",
   "id": "1",
   "metadata": {},
   "source": [
    "<b>1. What is the relationship between classes and modules?</b><br>Answer:<br>\n",
    "Class and module in python reuse a given piece of code. Modules are files present inside a package, whereas a class is used to encapsulate data and functions together inside the same unit.\n",
    "\n",
    "A class can have its own instance, but a module cannot be instantiated. We use the ‘class’ keyword to define a class, whereas to use modules, we use the ‘import’ keyword. We can inherit a particular class and modify it using inheritance. But while using modules, it is simply a code containing variables, functions, and classes."
   ]
  },
  {
   "cell_type": "markdown",
   "id": "2",
   "metadata": {},
   "source": [
    "<b>2. How do you make instances and classes?</b><br>Answer:<br>\n",
    "An instance are made from a class using the class name.<br>Example,<br>\n",
    "class Demo-class():<br>\n",
    "&emsp;code for class<br>\n",
    "&emsp;...\n",
    "\n",
    "instance = Demo-class()"
   ]
  },
  {
   "cell_type": "markdown",
   "id": "3",
   "metadata": {},
   "source": [
    "<b>3. Where and how should be class attributes created?</b><br>Answer:<br>\n",
    "Class attributes should be created  inside the class but outside any class method."
   ]
  },
  {
   "cell_type": "markdown",
   "id": "4",
   "metadata": {},
   "source": [
    "<b>4. Where and how are instance attributes created?</b><br>Answer:<br>\n",
    "Instance attributes must be created inside the class methods. <i>self</i> must be used to create them.\n"
   ]
  },
  {
   "cell_type": "markdown",
   "id": "5",
   "metadata": {},
   "source": [
    "<b>5. What does the term 'self' in a Python class mean?</b><br>Answer:<br>\n",
    "'self' is a term used to refer to te current instance in use. It is the necessary first argument in the method declaration.<br>\n"
   ]
  },
  {
   "cell_type": "markdown",
   "id": "6",
   "metadata": {},
   "source": [
    "<b>6. How does a Python class handle operator overloading?</b><br>Answer:<br>\n",
    "To perform operator overloading, Python provides some special function or magic function that is automatically invoked when<br> it is associated with that particular operator.<br> For example, when we use + operator, the magic method \\_\\_add\\_\\_ is automatically invoked in which the operation for + operator is defined.<br>"
   ]
  },
  {
   "cell_type": "markdown",
   "id": "7",
   "metadata": {},
   "source": [
    "<b>7. When do you consider allowing operator overloading of your classes?</b><br>Answer:<br>\n",
    "When we want the same operator to have different meaning according to the context then we use operator overloading."
   ]
  },
  {
   "cell_type": "markdown",
   "id": "8",
   "metadata": {},
   "source": [
    "<b>8. What is the most popular form of operator overloading?</b><br>Answer:<br>\n",
    "The overloading of '+' operator is the most popular form of operator overloading. It will perform arithmetic addition on two numbers, merge two lists, or concatenate two strings."
   ]
  },
  {
   "cell_type": "markdown",
   "id": "9",
   "metadata": {},
   "source": [
    "<b>9. What are the two most important concepts to grasp in order to comprehend Python OOP code?</b><br>Answer:<br>\n",
    "Inheritance and Polymorphism"
   ]
  },
  {
   "cell_type": "code",
   "execution_count": null,
   "id": "93c944fa",
   "metadata": {},
   "outputs": [],
   "source": []
  }
 ],
 "metadata": {
  "kernelspec": {
   "display_name": "Python 3 (ipykernel)",
   "language": "python",
   "name": "python3"
  },
  "language_info": {
   "codemirror_mode": {
    "name": "ipython",
    "version": 3
   },
   "file_extension": ".py",
   "mimetype": "text/x-python",
   "name": "python",
   "nbconvert_exporter": "python",
   "pygments_lexer": "ipython3",
   "version": "3.9.7"
  }
 },
 "nbformat": 4,
 "nbformat_minor": 5
}
