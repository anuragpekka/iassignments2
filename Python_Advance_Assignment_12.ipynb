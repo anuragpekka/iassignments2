{
 "cells": [
  {
   "cell_type": "markdown",
   "id": "994a9022",
   "metadata": {},
   "source": [
    "## Python_Advance_Assignment_12"
   ]
  },
  {
   "cell_type": "markdown",
   "id": "1",
   "metadata": {},
   "source": [
    "<b>1. Does assigning a value to a string's indexed character violate Python's string immutability?</b><br>Answer:<br>\n",
    "No, it does not. The string after replacement is a new string instance in the memory."
   ]
  },
  {
   "cell_type": "markdown",
   "id": "2",
   "metadata": {},
   "source": [
    "<b>2. Does using the += operator to concatenate strings violate Python's string immutability? Why or why not?</b><br>Answer:<br>\n",
    "No, it does not. The string after += is a new string instance in the memory."
   ]
  },
  {
   "cell_type": "markdown",
   "id": "3",
   "metadata": {},
   "source": [
    "<b>3. In Python, how many different ways are there to index a character?</b><br>Answer:<br>\n",
    "- call the index number in square brackets. Example s[3]\n",
    "- negative index numbers in square brackets for isolating a single character towards the end of a string. Example s[-3]\n"
   ]
  },
  {
   "cell_type": "markdown",
   "id": "4",
   "metadata": {},
   "source": [
    "<b>4. What is the relationship between indexing and slicing?</b><br>Answer:<br>\n",
    " With slices, we can call multiple character values by creating a range of index numbers separated by a colon [x:y]<br>\n",
    " Example, s[3:6]"
   ]
  },
  {
   "cell_type": "markdown",
   "id": "5",
   "metadata": {},
   "source": [
    "<b>5. What is an indexed character's exact data type? What is the data form of a slicing-generated substring?</b><br>Answer:<br>\n",
    "indexed character's exact data type is 'str'.<br>\n",
    "data form of a slicing-generated substring is 'str'"
   ]
  },
  {
   "cell_type": "markdown",
   "id": "6",
   "metadata": {},
   "source": [
    "<b>6. What is the relationship between string and character 'types' in Python?</b><br>Answer:<br>\n",
    "string and character types in Python are both object of class 'str'."
   ]
  },
  {
   "cell_type": "markdown",
   "id": "7",
   "metadata": {},
   "source": [
    "<b>7. Identify at least two operators and one method that allow you to combine one or more smaller strings to create a larger string.</b><br>Answer:<br>\n",
    "\n",
    "Two operators for concatenating are + and +=\n",
    "\n",
    " method: join()<br>\n"
   ]
  },
  {
   "cell_type": "raw",
   "id": "2758dfbd",
   "metadata": {},
   "source": [
    "To concatenate two or more literal strings, you just need to place them next to each other\n",
    "%-formatting\n",
    "format() method\n",
    "Concatenating strings using f-strings"
   ]
  },
  {
   "cell_type": "markdown",
   "id": "8",
   "metadata": {},
   "source": [
    "<b>8. What is the benefit of first checking the target string with in or not in before using the index method to find a substring?</b><br>Answer:<br>\n",
    "So that we can avoid exception ValueError if the substring searched by index() is not present."
   ]
  },
  {
   "cell_type": "markdown",
   "id": "9",
   "metadata": {},
   "source": [
    "<b>9. Which operators and built-in string methods produce simple Boolean (true/false) results?</b><br>Answer:<br>\n",
    "- in\n",
    "- not in\n",
    "- endswith()\n",
    "- isalnum()\n",
    "- isalpha()\n",
    "- isdecimal()\n",
    "- isdigit()\n",
    "- isidentifier()\n",
    "- islower()\n",
    "- isnumeric()\n",
    "- isprintable()\n",
    "- isspace()\n",
    "- istitle()\n",
    "- isupper()\n",
    "- startswith()\n"
   ]
  }
 ],
 "metadata": {
  "kernelspec": {
   "display_name": "Python 3 (ipykernel)",
   "language": "python",
   "name": "python3"
  },
  "language_info": {
   "codemirror_mode": {
    "name": "ipython",
    "version": 3
   },
   "file_extension": ".py",
   "mimetype": "text/x-python",
   "name": "python",
   "nbconvert_exporter": "python",
   "pygments_lexer": "ipython3",
   "version": "3.9.7"
  }
 },
 "nbformat": 4,
 "nbformat_minor": 5
}
