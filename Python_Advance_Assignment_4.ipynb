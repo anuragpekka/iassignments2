{
 "cells": [
  {
   "cell_type": "markdown",
   "id": "994a9022",
   "metadata": {},
   "source": [
    "## Python_Advance_Assignment_4"
   ]
  },
  {
   "cell_type": "markdown",
   "id": "1",
   "metadata": {},
   "source": [
    "<b>1. Which two operator overloading methods can you use in your classes to support iteration?</b><br>Answer:<br>\n",
    "\\_\\_next\\_\\_() and  \\_\\_iter\\_\\_() can be overloaded by a class to support iteration."
   ]
  },
  {
   "cell_type": "raw",
   "id": "df3d8173",
   "metadata": {},
   "source": [
    "# Python code showing use of iter() using OOPs\n",
    "\n",
    "class Counter:\n",
    "    def __init__(self, start, end):\n",
    "        self.num = start\n",
    "        self.end = end\n",
    "\n",
    "    def __iter__(self):\n",
    "        return self\n",
    "\n",
    "    def __next__(self):\n",
    "        if self.num > self.end:\n",
    "            raise StopIteration\n",
    "        else:\n",
    "            self.num += 1\n",
    "            return self.num - 1\n",
    "            \n",
    "            \n",
    "# Driver code\n",
    "if __name__ == '__main__' :\n",
    "    a, b = 2, 5\n",
    "    \n",
    "    c1 = Counter(a, b)\n",
    "    c2 = Counter(a, b)\n",
    "    \n",
    "    # Way 1-to print the range without iter()\n",
    "    print (\"Print the range without iter()\")\n",
    "    \n",
    "    for i in c1:\n",
    "        print (\"Eating more Pizzas, counting \", i, end =\"\\n\")\n",
    "    \n",
    "    print (\"\\nPrint the range using iter()\\n\")\n",
    "    \n",
    "    # Way 2- using iter()\n",
    "    obj = iter(c2)\n",
    "    try:\n",
    "        while True: # Print till error raised\n",
    "            print (\"Eating more Pizzas, counting \", next(obj))\n",
    "    except:\n",
    "        # when StopIteration raised, Print custom message\n",
    "        print (\"\\nDead on overfood, GAME OVER\")\n"
   ]
  },
  {
   "cell_type": "markdown",
   "id": "2",
   "metadata": {},
   "source": [
    "<b>2. In what contexts do the two operator overloading methods manage printing?</b><br>Answer:<br>\n",
    "repr() compute the “official” string representation of an object (a representation that has all information about the object) and <br>str() is used to compute the “informal” string representation of an object (a representation that is useful for printing the object).\n",
    "\n",
    "The print statement and str() built-in function uses \\_\\_str\\_\\_ to display the string representation of the object <br>while the repr() built-in function uses \\_\\_repr\\_\\_ to display the object.\n",
    "\n",
    "We can overload \\_\\_str\\_\\_ and \\_\\_repr\\_\\_ in our class."
   ]
  },
  {
   "cell_type": "raw",
   "id": "43dad2c3",
   "metadata": {},
   "source": [
    "import datetime\n",
    "today = datetime.datetime.now()\n",
    "\n",
    "# Prints readable format for date-time object\n",
    "print (str(today))\n",
    "\n",
    "# prints the official format of date-time object\n",
    "print (repr(today))\t\n"
   ]
  },
  {
   "cell_type": "markdown",
   "id": "3",
   "metadata": {},
   "source": [
    "<b>3. In a class, how do you intercept slice operations?</b><br>Answer:<br>\n",
    "Slice operations can be intercepted by overloading,<br> \n",
    "- \\_\\_setitem\\_\\_()\n",
    "- \\_\\_getitem\\_\\_()\n",
    "- \\_\\_delitem\\_\\_()"
   ]
  },
  {
   "cell_type": "raw",
   "id": "19c71612",
   "metadata": {},
   "source": [
    "class InterceptedList(list):\n",
    "\n",
    "    \"\"\"def addSave(func):\n",
    "        def newfunc(self, *args):\n",
    "            func(self, *args)\n",
    "            print('saving')\n",
    "        return newfunc \"\"\"\n",
    "\n",
    "    def __setitem__(self, key, value):\n",
    "        print ('setting')\n",
    "        list.__setitem__(self, key, value)\n",
    "        \n",
    "    def __getitem__(self, key):\n",
    "        print ('getting')\n",
    "        return(list.__getitem__(self, key))\n",
    "\n",
    "    def __delitem__(self, key):\n",
    "        print ('deleting')\n",
    "        list.__delitem__(self, key)\n",
    "        \n",
    "l = InterceptedList()\n",
    "l.extend([1,2,3,4])\n",
    "#l.append([1,2,3,4])\n",
    "print(\"org l=\", l) #[1, 2, 3, 4]\n",
    "\n",
    "l[3:] = [5]\n",
    "print(\"l after setting=\",l) #[1, 2, 3, 5]\n",
    "\n",
    "print(\"l[1:] = \",l[1:]) \n",
    "del(l[2:])\n",
    "print('l after del [2:] = ',l)"
   ]
  },
  {
   "cell_type": "markdown",
   "id": "4",
   "metadata": {},
   "source": [
    "<b>4. In a class, how do you capture in-place addition?</b><br>Answer:<br>\n",
    "You capture in-place addition by in \\_\\_iadd\\_\\_() function in the class."
   ]
  },
  {
   "cell_type": "raw",
   "id": "8b1b77f1",
   "metadata": {},
   "source": [
    "class NumString:\n",
    "\n",
    "    def __init__(self, value):\n",
    "        self.value = str(value)\n",
    "\n",
    "    def __int__(self):\n",
    "        return int(self.value)\n",
    "\n",
    "    def __str__(self):\n",
    "        return self.value\n",
    "\n",
    "    def __add__(self, other):\n",
    "        return int(self) + other\n",
    "\n",
    "    def __iadd__(self, other):\n",
    "        self.value = self + other\n",
    "        return self.value\n",
    "\n",
    "some_num1 = NumString(0) # Create an instance of NumString with 0 as value.\n",
    "print(str(some_num1)) # Check what is contained within self.value in this instance.\n",
    "# Output: '0'\n",
    "\n",
    "some_num1 + 1 # We add some_num1 to 1, this returns back the calculation using the __add__ method\n",
    "print(str(some_num1)) # check what some_num1 is holding for a self.value\n",
    "# Output: '0'\n",
    "\n",
    "some_num1 += 2 # We in-place add some_num1 to 2, this stores and returns the new stored value using __iadd__ method.\n",
    "print(str(some_num1)) # check what some_num1 is holding now?\n",
    "# Output: '2'"
   ]
  },
  {
   "cell_type": "markdown",
   "id": "5",
   "metadata": {},
   "source": [
    "<b>5. When is it appropriate to use operator overloading?</b><br>Answer:<br>\n",
    "The operator overloading is appropriate to use in Python when we want to provide extended meaning beyond their predefined operational meaning. Such as, we use the \"+\" operator for adding two integers as well as joining two strings or merging two lists. We can achieve this as the \"+\" operator is overloaded by the \"int\" class and \"str\" class."
   ]
  },
  {
   "cell_type": "code",
   "execution_count": null,
   "id": "caad9294",
   "metadata": {},
   "outputs": [],
   "source": []
  }
 ],
 "metadata": {
  "kernelspec": {
   "display_name": "Python 3 (ipykernel)",
   "language": "python",
   "name": "python3"
  },
  "language_info": {
   "codemirror_mode": {
    "name": "ipython",
    "version": 3
   },
   "file_extension": ".py",
   "mimetype": "text/x-python",
   "name": "python",
   "nbconvert_exporter": "python",
   "pygments_lexer": "ipython3",
   "version": "3.9.7"
  }
 },
 "nbformat": 4,
 "nbformat_minor": 5
}
