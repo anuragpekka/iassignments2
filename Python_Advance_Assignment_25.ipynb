{
 "cells": [
  {
   "cell_type": "markdown",
   "id": "994a9022",
   "metadata": {},
   "source": [
    "## Python_Advance_Assignment_25"
   ]
  },
  {
   "cell_type": "markdown",
   "id": "1",
   "metadata": {},
   "source": [
    "<b>1. What is the distinction between a numpy array and a pandas data frame? Is there a way to convert between the two if there is?</b><br>Answer:<br>\n",
    "<table>\n",
    "    <tr><th>Pandas Dataframe</th><th>Numpy Array</th></tr>\n",
    "    <tr><td>Pandas is capable of offering an in-memory 2d table object called DataFrame.</td><td> NumPy library provides objects for multi-dimensional arrays.</td></tr>\n",
    "<tr><td>The Pandas Dataframe mainly works with the tabular data</td><td>the NumPy array works with the numerical data.</td></tr>\n",
    "<tr><td>Pandas Dataframe consume more memory.</td><td> Numpy array is memory efficient.</td></tr>\n",
    "<tr><td>Pandas Dataframe has a better performance when a number of rows is 500K or more.</td><td> Numpy array has a better performance when number of rows is 50K or less.</td></tr>\n",
    "</table>"
   ]
  },
  {
   "cell_type": "markdown",
   "id": "2",
   "metadata": {},
   "source": [
    "<b>2. What can go wrong when an user enters in a stock-ticker symbol, and how do you handle it?</b><br>Answer:<br>\n",
    "When user enters a stock-ticker symbol, there may not any such symbol existing.\n",
    "\n",
    "To solve this get the valid stock-ticker symbols of the stock exchange. For example for NSE use _nsetools.Nse.get_stock_codes()_ function to get all the valid stock-ticker symbols.<br>\n"
   ]
  },
  {
   "cell_type": "raw",
   "id": "813150bd",
   "metadata": {},
   "source": [
    " What Is a Stock Symbol (Ticker)?\n",
    "\n",
    "A stock symbol is a unique series of letters assigned to a security for trading purposes. Stocks listed on the New York Stock Exchange (NYSE) can have four or fewer letters. Nasdaq-listed securities can have up to five characters. Symbols are just a shorthand way of describing a company's stock, so there is no significant difference between those that have three letters and those that have four or five. Stock symbols are also known as ticker symbols. "
   ]
  },
  {
   "cell_type": "raw",
   "id": "10cae3c1",
   "metadata": {},
   "source": [
    "!pip install nsetools"
   ]
  },
  {
   "cell_type": "raw",
   "id": "455c567e",
   "metadata": {},
   "source": [
    "from nsetools import Nse\n",
    "import pandas as pd"
   ]
  },
  {
   "cell_type": "raw",
   "id": "05985364",
   "metadata": {},
   "source": [
    "nse=Nse()\n",
    "q=nse.get_quote(code='inty')\n",
    "print(\"q=\",q)"
   ]
  },
  {
   "cell_type": "markdown",
   "id": "3",
   "metadata": {},
   "source": [
    "<b>3. Identify some of the plotting techniques that are used to produce a stock-market chart.</b><br>Answer:<br>\n",
    "* using matplotlib.pyplot\n",
    "* plotly.graph_objects\n",
    "* plotly.subplots.make_subplots - for subplots(like volume)\n",
    "* plotly.graph_objects.add_trace(go.Candlestick(x,open,high,low,close)) - for Candlesticks"
   ]
  },
  {
   "cell_type": "markdown",
   "id": "4",
   "metadata": {},
   "source": [
    "<b>4. Why is it essential to print a legend on a stock market chart?</b><br>Answer:<br>\n",
    "It is essential to print a legend so identify which line belongs to which stock."
   ]
  },
  {
   "cell_type": "markdown",
   "id": "5",
   "metadata": {},
   "source": [
    "<b>5. What is the best way to limit the length of a pandas data frame to less than a year?</b><br>Answer:<br>\n",
    "Limit the length of a pandas data frame using _pandas.DataFrame.loc_\n",
    "\n",
    "Example:<br>\n",
    "import pandas as pd<br>\n",
    "df = pd.read_csv('finance-charts-apple.csv')<br>\n",
    "df = df.loc[(df[\"Date\"] >= \"2016-07-01\") & (df[\"Date\"] <= \"2016-12-01\")]\n"
   ]
  },
  {
   "cell_type": "markdown",
   "id": "6",
   "metadata": {},
   "source": [
    "<b>6. What is the definition of a 180-day moving average?</b><br>Answer:<br>\n",
    "The 180-day Moving Average is determined by the average price of stock over a period of time 180 days."
   ]
  },
  {
   "cell_type": "markdown",
   "id": "7",
   "metadata": {},
   "source": [
    "<b>7. Did the chapter's final example use 'indirect' importing? If so, how exactly do you do it?</b><br>Answer:<br>\n",
    "Sometimes we may need to install only needed modules and not the unneccessary modules.\n",
    "\n",
    "For example,<br>\n",
    "The extremely popular Requests library supports proxying your requests using HTTP and HTTPS proxies. It also has support for proxying requests via SOCKS proxies but this requires that you install the additional PySocks module. This can be done either by:\n",
    "* installing the requests[socks] module instead of the vanilla requests module\n",
    "* installing the PySocks module\n",
    "\n",
    "The strange [socks] part in the first module is what is referred to as an optional package. setuptools allows you to specify variants of your installation package so that only modules that are needed by a given user are installed instead of it polluting your runtime environment by installing unnecessary modules. This is <u>_indirect importing_</u> of \"socks\"."
   ]
  },
  {
   "cell_type": "code",
   "execution_count": null,
   "id": "07c39ae8",
   "metadata": {},
   "outputs": [],
   "source": []
  }
 ],
 "metadata": {
  "kernelspec": {
   "display_name": "Python 3 (ipykernel)",
   "language": "python",
   "name": "python3"
  },
  "language_info": {
   "codemirror_mode": {
    "name": "ipython",
    "version": 3
   },
   "file_extension": ".py",
   "mimetype": "text/x-python",
   "name": "python",
   "nbconvert_exporter": "python",
   "pygments_lexer": "ipython3",
   "version": "3.9.7"
  }
 },
 "nbformat": 4,
 "nbformat_minor": 5
}
