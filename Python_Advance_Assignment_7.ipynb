{
 "cells": [
  {
   "cell_type": "markdown",
   "id": "994a9022",
   "metadata": {},
   "source": [
    "## Python_Advance_Assignment_7"
   ]
  },
  {
   "cell_type": "markdown",
   "id": "1",
   "metadata": {},
   "source": [
    "<b>1. What is the purpose of the try statement?</b><br>Answer:<br>\n",
    "<i>try</i> statement checks if the code in try block contains any exception."
   ]
  },
  {
   "cell_type": "markdown",
   "id": "2",
   "metadata": {},
   "source": [
    "<b>2. What are the two most popular try statement variations?</b><br>Answer:<br>\n",
    "Two popular try statement variations are:<br>\n",
    "1)<br>\n",
    "try:<br>\n",
    "&emsp;#some code<br>\n",
    "except:<br>\n",
    "&emsp;#code to handle exception<br>\n",
    "\n",
    "2)<br>\n",
    "try:<br>\n",
    "&emsp;#some code<br>\n",
    "except:<br>\n",
    "&emsp;#code to handle exception<br>\n",
    "finally:<br>\n",
    "&emsp;#code to execute irrespective of Error or not<br>"
   ]
  },
  {
   "cell_type": "markdown",
   "id": "3",
   "metadata": {},
   "source": [
    "<b>3. What is the purpose of the raise statement?</b><br>Answer:<br>\n",
    "<i>raise</i> statement forces a desired Exception to happen."
   ]
  },
  {
   "cell_type": "markdown",
   "id": "4",
   "metadata": {},
   "source": [
    "<b>4. What does the assert statement do, and what other statement is it like?</b><br>Answer:<br>\n",
    "<i>assert</i> checks a expression for True or False. If it is False it raises an AssertionError exception with the specified error message.\n",
    "\n",
    "Other statement like assert would be a raise statement in a if statement.<br> \n",
    "if(\\<expression\\>):<br>\n",
    "&emsp;raise \\<Exception\\>"
   ]
  },
  {
   "cell_type": "markdown",
   "id": "5",
   "metadata": {},
   "source": [
    "<b>5. What is the purpose of the with/as argument, and what other statement is it like?</b><br>Answer:<br>\n",
    "<i>with...as</i> statement in Python is used in exception handling to make the code cleaner and much more readable. It simplifies the management of common resources like file streams. \n",
    "\n",
    "Handling file using with statement:<br>\n",
    "with open('file_path', 'w') as file:<br>\n",
    "&emsp;file.write('hello world !')<br>\n",
    "\n",
    "There is no need to call file.close() when using with statement. The with statement itself ensures proper acquisition and release of resources. An exception during the file.write() call without with can prevent the file from closing properly which may introduce several bugs in the code. By using the with statement makes the code compact and much more readable.\n",
    "\n",
    "The <i>with</i> statement is like normal code with statements to ensures acquisition and release of resources.<br>\n",
    "Handling file stream Without using with statement,<br>\n",
    "file = open('file_path', 'w')<br>\n",
    "file.write('hello world !')<br>\n",
    "file.close()\n",
    "\n"
   ]
  },
  {
   "cell_type": "raw",
   "id": "71053d9e",
   "metadata": {},
   "source": [
    " The with statement is popularly used with file streams, as shown above and with Locks, sockets, subprocesses and telnets etc."
   ]
  }
 ],
 "metadata": {
  "kernelspec": {
   "display_name": "Python 3 (ipykernel)",
   "language": "python",
   "name": "python3"
  },
  "language_info": {
   "codemirror_mode": {
    "name": "ipython",
    "version": 3
   },
   "file_extension": ".py",
   "mimetype": "text/x-python",
   "name": "python",
   "nbconvert_exporter": "python",
   "pygments_lexer": "ipython3",
   "version": "3.9.7"
  }
 },
 "nbformat": 4,
 "nbformat_minor": 5
}
