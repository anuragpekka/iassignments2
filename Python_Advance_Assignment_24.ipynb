{
 "cells": [
  {
   "cell_type": "markdown",
   "id": "994a9022",
   "metadata": {},
   "source": [
    "## Python_Advance_Assignment_24"
   ]
  },
  {
   "cell_type": "markdown",
   "id": "1",
   "metadata": {},
   "source": [
    "<b>1. Is it permissible to use several import statements to import the same module? What would the goal be? Can you think of a situation where it would be beneficial?</b><br>Answer:<br>\n",
    "Yes, it is permissible to use several import statements to import the same module.\n",
    "\n",
    "The _reload()_ is used to reload a previously imported module or loaded module. This comes handy in a situation where you repeatedly run a test script during an interactive session, it always uses the first version of the modules we are developing, even we have made changes to the code. In that scenario we need to make sure that modules are reloaded. The argument passed to the reload() must be a module object which is successfully imported before.<br>\n"
   ]
  },
  {
   "cell_type": "markdown",
   "id": "2",
   "metadata": {},
   "source": [
    "<b>2. What are some of a module's characteristics? (Name at least one.)</b><br>Answer:<br>\n",
    "One of the module's characteristics is &#95;&#95;name&#95;&#95;"
   ]
  },
  {
   "cell_type": "markdown",
   "id": "3",
   "metadata": {},
   "source": [
    "<b>3. Circular importing, such as when two modules import each other, can lead to dependencies and bugs that aren't visible. How can you go about creating a program that avoids mutual importing?</b><br>Answer:<br>\n",
    "Circular import dependencies typically fall into two categories _depending on what you're trying to import_ and _where you're using it inside each module._ (And whether you're using python 2 or 3).\n",
    "\n",
    "1. ___Errors importing modules with circular imports___\n",
    "\n",
    "   In some cases, just importing a module with a circular import dependency can result in errors even if you're not<br> referencing anything from the imported module.\n",
    "   \n",
    "   There are several standard ways to import a module in python:<br>\n",
    "   import package.a           # (1) Absolute import<br>\n",
    "   import package.a as a_mod  # (2) Absolute import bound to different name<br>\n",
    "   from package import a      # (3) Alternate absolute import<br>\n",
    "   import a                   # (4) Implicit relative import (deprecated, python 2 only)<br>\n",
    "   from . import a            # (5) Explicit relative import<br>\n",
    "   \n",
    "   Unfortunately, only the 1st and 4th options actually work when you have circular dependencies (the rest all raise ImportError or AttributeError). In general, you shouldn't be using the 4th syntax, since it only works in python2 and runs the risk of clashing with other 3rd party modules. So really, only the first syntax is guaranteed to work. \n"
   ]
  },
  {
   "cell_type": "markdown",
   "id": "f3ef8fd7",
   "metadata": {},
   "source": [
    "___Solutions for Errors importing modules with circular imports___:<br>\n",
    "* _Absolute Import_\n",
    "\n",
    "Just use the first import syntax above. The downside to this method is that the import names can get super long for large packages.\n",
    "\n",
    "In a.py\n",
    "\n",
    "import package.b\n",
    "\n",
    "In b.py\n",
    "\n",
    "import package.a\n",
    "\n",
    "* _Defer import until later_\n",
    "\n",
    "I've seen this method used in lots of packages, but it still feels hacky to me, and I dislike that I can't look at the top of a module and see all its dependencies, I have to go searching through all the functions as well.\n",
    "\n",
    "In a.py\n",
    "\n",
    "def func():<br>\n",
    "&emsp;from package import b\n",
    "\n",
    "In b.py\n",
    "\n",
    "def func():<br>\n",
    "&emsp;from package import a\n",
    "\n",
    "* _Put all imports in a central module_\n",
    "\n",
    "This also works, but has the same problem as the first method, where all the package and submodule calls get super long. It also has two major flaws -- it forces all the submodules to be imported, even if you're only using one or two, and you still can't look at any of the submodules and quickly see their dependencies at the top, you have to go sifting through functions.\n",
    "\n",
    "In &#95;&#95;init&#95;&#95;.py\n",
    "\n",
    "from . import a<br>\n",
    "from . import b\n",
    "\n",
    "In a.py\n",
    "\n",
    "import package\n",
    "\n",
    "def func():<br>\n",
    "&emsp;package.b.some_object()\n",
    "\n",
    "In b.py\n",
    "\n",
    "import package\n",
    "\n",
    "def func():<br>\n",
    "&emsp;package.a.some_object()\n"
   ]
  },
  {
   "cell_type": "markdown",
   "id": "420c7a68",
   "metadata": {},
   "source": [
    "2. ___Errors using imported objects with circular dependencies___\n",
    "\n",
    "   Now, while you may be able to import a module with a circular import dependency, you won't be able to import any objects defined in the module or actually be able to reference that imported module anywhere in the top level of the module where you're importing it. You can, however, use the imported module inside functions and code blocks that don't get run on import.\n",
    "   \n",
    "For example, this will work:\n",
    "\n",
    "package/a.py\n",
    "\n",
    "import package.b\n",
    "\n",
    "def func_a():<br>\n",
    "&emsp;return \"a\"\n",
    "\n",
    "package/b.py\n",
    "\n",
    "import package.a\n",
    "\n",
    "def func_b():<br>\n",
    "&emsp;# Notice how package.a is only referenced *inside* a function<br>\n",
    "&emsp;# and not the top level of the module.<br>\n",
    "&emsp;return package.a.func_a() + \"b\"<br>\n",
    "\n",
    "But this won't work\n",
    "\n",
    "package/a.py\n",
    "\n",
    "import package.b\n",
    "\n",
    "class A(object):<br>\n",
    " &emsp;pass\n",
    "\n",
    "package/b.py\n",
    "\n",
    "import package.a\n",
    "\n",
    "\\# package.a is referenced at the top level of the module<br>\n",
    "class B(package.a.A):<br>\n",
    " &emsp;pass\n",
    "\n",
    "You'll get an exception\n",
    "\n",
    "&emsp;AttributeError: module 'package' has no attribute 'a'\n",
    "\n",
    "Generally, in most valid cases of circular dependencies, it is possible to refactor or reorganize the code to <br>prevent these errors and move module references inside a code block."
   ]
  },
  {
   "cell_type": "markdown",
   "id": "4",
   "metadata": {},
   "source": [
    "<b>4. Why is  _ _all_ _ in Python?</b><br>Answer:<br>\n",
    "Linked to, but not explicitly mentioned here, is exactly when &#95;&#95;all&#95;&#95; is used. It is a list of strings defining what <br>symbols in a module will be exported when from <module> import * is used on the module.\n",
    "\n",
    "For example, the following code in a foo.py explicitly exports the symbols bar and baz:\n",
    "\n",
    "&#95;&#95;all&#95;&#95; = ['bar', 'baz']\n",
    "\n",
    "waz = 5<br>\n",
    "bar = 10<br>\n",
    "def baz():<br>\n",
    "&emsp;return 'baz'\n",
    "\n",
    "These symbols can then be imported like so:\n",
    "\n",
    "from foo import *\n",
    "\n",
    "print(bar)<br><br>\n",
    "print(baz)\n",
    "\n",
    "\\# The following will trigger an exception, as \"waz\" is not exported by the module<br>\n",
    "print(waz)\n"
   ]
  },
  {
   "cell_type": "markdown",
   "id": "5",
   "metadata": {},
   "source": [
    "<b>5. In what situation is it useful to refer to the &#95;&#95;name&#95;&#95; attribute or the string '&#95;&#95;main&#95;&#95;'?</b><br>Answer:<br>\n",
    "It is useful to refer to the &#95;&#95;name&#95;&#95; attribute or the string '&#95;&#95;main&#95;&#95;' when you want to differenciate the code which executes when the file runs as script from the code that gets imported as module.\n",
    "\n",
    "&#95;&#95;name&#95;&#95; is a built-in variable which evaluates to the name of the current module. Thus it can be used to check whether the current script is being run on its own or being imported somewhere else by combining it with if statement, as shown below.<br>\n",
    "For most practical purposes, you can think of the conditional block that you open with if &#95;&#95;name&#95;&#95; == \"&#95;&#95;main&#95;&#95;\" as a way to store code that should only run when your file is executed as a script."
   ]
  },
  {
   "cell_type": "markdown",
   "id": "6",
   "metadata": {},
   "source": [
    "<b>6. What are some of the benefits of attaching a program counter to the RPN interpreter application, which interprets an RPN script line by line?</b><br>Answer:<br>\n",
    "The benefit of RPN (reverse polish notation) interpreter - it's also called 0-address-machine as it does not need addressable storage locations for it's operation."
   ]
  },
  {
   "cell_type": "markdown",
   "id": "7",
   "metadata": {},
   "source": [
    "<b>7. What are the minimum expressions or statements (or both) that you'd need to render a basic programming language like RPN primitive but complete — that is, capable of carrying out any computerised task theoretically possible?</b><br>Answer:<br>\n",
    "The minimum expressions or statements (or both) that you'd need to render a basic programming language, like RPN primitive, follows the following format:<br> \n",
    "_mnemonic   [operands]_<br>\n",
    "A basic instruction has two parts, the first one is the name of the instruction (or the mnemonic), which is to be<br> executed, and the second are the operands or the parameters of the command. \n",
    "\n",
    "Following are some examples of typical assembly language statements −\n",
    "\n",
    "_INC COUNT_        ; Increment the memory variable COUNT\n",
    "\n",
    "_MOV TOTAL, 48_    ; Transfer the value 48 in the memory variable TOTAL\n",
    "             "
   ]
  },
  {
   "cell_type": "code",
   "execution_count": null,
   "id": "35df24ce",
   "metadata": {},
   "outputs": [],
   "source": []
  }
 ],
 "metadata": {
  "kernelspec": {
   "display_name": "Python 3 (ipykernel)",
   "language": "python",
   "name": "python3"
  },
  "language_info": {
   "codemirror_mode": {
    "name": "ipython",
    "version": 3
   },
   "file_extension": ".py",
   "mimetype": "text/x-python",
   "name": "python",
   "nbconvert_exporter": "python",
   "pygments_lexer": "ipython3",
   "version": "3.9.7"
  }
 },
 "nbformat": 4,
 "nbformat_minor": 5
}
