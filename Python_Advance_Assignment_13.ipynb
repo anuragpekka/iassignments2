{
 "cells": [
  {
   "cell_type": "markdown",
   "id": "994a9022",
   "metadata": {},
   "source": [
    "## Python_Advance_Assignment_13"
   ]
  },
  {
   "cell_type": "markdown",
   "id": "1",
   "metadata": {},
   "source": [
    "<b>1. Can you create a programme or function that employs both positive and negative indexing? Is there any repercussion if you do so?</b><br>Answer:<br>\n",
    "Yes in Python we can create a programme or function that employs both positive and negative indexing.<br>\n",
    "No there is no repercussion in doing so. Infact this is an advantage in Python that other porgramming laguages do not have."
   ]
  },
  {
   "cell_type": "markdown",
   "id": "2",
   "metadata": {},
   "source": [
    "<b>2. What is the most effective way of starting with 1,000 elements in a Python list? Assume that all elements should be set to the same value.</b><br>Answer:<br>\n",
    " Use List Comprehension with range() to initialize a list by 1000 elements. It will iterate over the tange from 0 to 1000 and for each entry, it will add the given value to the list and in the end returns the list.\n",
    "\n",
    "Example,<br>\n",
    "value = 11<br>\n",
    "list_1000 = [value for i in range(1000)]"
   ]
  },
  {
   "cell_type": "markdown",
   "id": "3",
   "metadata": {},
   "source": [
    "<b>3. How do you slice a list to get any other part while missing the rest? (For example, suppose you want to make a new list with the elements first, third, fifth, seventh, and so on.)</b><br>Answer:<br>\n",
    "Say, list1 = [1,2,3,4,5,6,7,8,9,10]<br>\n",
    "Then, slice = list1[0::2]\n"
   ]
  },
  {
   "cell_type": "markdown",
   "id": "4",
   "metadata": {},
   "source": [
    "<b>4. Explain the distinctions between indexing and slicing.</b><br>Answer:<br>\n",
    "Indexing is used to obtain individual elements.<br>\n",
    "Slicing is used to obtain a sequence of elements. "
   ]
  },
  {
   "cell_type": "markdown",
   "id": "5",
   "metadata": {},
   "source": [
    "<b>5. What happens if one of the slicing expression's indexes is out of range?</b><br>Answer:<br>\n",
    "Say, list1 = [1,2,3,4,5,6,7,8,9,10] <br>\n",
    "slice = list1[4:100] <br>\n",
    "The slice will include the elements till the last index, that is [5, 6, 7, 8, 9, 10]"
   ]
  },
  {
   "cell_type": "markdown",
   "id": "6",
   "metadata": {},
   "source": [
    "<b>6. If you pass a list to a function, and if you want the function to be able to change the values of the list—so that the list is different after the function returns—what action should you avoid?</b><br>Answer:<br>\n",
    "To avoid the change in the values of the list such that the list is different after the function returns we <i>pass by value</i>. Then the changes made to the function or copying of the variable are not reflected back to the calling function."
   ]
  },
  {
   "cell_type": "code",
   "execution_count": 6,
   "id": "fdf86b7d",
   "metadata": {},
   "outputs": [
    {
     "name": "stdout",
     "output_type": "stream",
     "text": [
      "Inside the function ['Sam', 'Steve']\n",
      "Outside the function: ['Jim', 'Anna', 'Preet']\n"
     ]
    }
   ],
   "source": [
    "#Example:\n",
    "student = ['Jim','Anna','Preet']\n",
    "def test(student):\n",
    "    student = ['Sam', 'Steve']\n",
    "    print(\"Inside the function\", student)\n",
    "    return \n",
    "test(student)\n",
    "print(\"Outside the function:\", student)"
   ]
  },
  {
   "cell_type": "markdown",
   "id": "7",
   "metadata": {},
   "source": [
    "<b>7. What is the concept of an unbalanced matrix?</b><br>Answer:<br>\n",
    "A matrix is balanced if all cells in the matrix are balanced and a cell of the matrix is balanced if the number of cells in that matrix that are adjacent to that cell is strictly greater than the value written in this cell. \n",
    "Adjacent cell means cells in the top, down, left, and right cell of each cell if it exists. \n",
    "<br>\n",
    "Input: N = 3, M = 3 <br>\n",
    "mat[][] = {{1, 2, 3}, <br>\n",
    "&emsp;&emsp;&emsp;&emsp;{4, 5, 6}, <br>\n",
    "&emsp;&emsp;&emsp;&emsp;{7, 8, 9}} <br>\n",
    "Output: Unbalanced <br>\n",
    "Explanation: Each cell of the given grid is not stable, so the overall grid is unbalanced.<br><br>\n",
    "Input: N = 3, M = 3 <br>\n",
    "mat[][] = {{1, 2, 1}, <br>\n",
    "&emsp;&emsp;&emsp;&emsp;{2, 3, 2}, <br>\n",
    "&emsp;&emsp;&emsp;&emsp;{1, 2, 1}} <br>\n",
    "Output: Balanced <br>\n",
    "Explanation: Each cell of the given grid is stable, so the overall grid is Balanced. <br>"
   ]
  },
  {
   "cell_type": "markdown",
   "id": "8",
   "metadata": {},
   "source": [
    "<b>8. Why is it necessary to use either list comprehension or a loop to create arbitrarily large matrices?</b><br>Answer:<br>\n",
    "Becsuse it will be very difficult to declare the matrix as it is very large."
   ]
  },
  {
   "cell_type": "code",
   "execution_count": null,
   "id": "7ed6a62f",
   "metadata": {},
   "outputs": [],
   "source": []
  }
 ],
 "metadata": {
  "kernelspec": {
   "display_name": "Python 3 (ipykernel)",
   "language": "python",
   "name": "python3"
  },
  "language_info": {
   "codemirror_mode": {
    "name": "ipython",
    "version": 3
   },
   "file_extension": ".py",
   "mimetype": "text/x-python",
   "name": "python",
   "nbconvert_exporter": "python",
   "pygments_lexer": "ipython3",
   "version": "3.9.7"
  }
 },
 "nbformat": 4,
 "nbformat_minor": 5
}
