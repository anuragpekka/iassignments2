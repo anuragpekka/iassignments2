{
 "cells": [
  {
   "cell_type": "markdown",
   "id": "994a9022",
   "metadata": {},
   "source": [
    "## Python_Advance_Assignment_8"
   ]
  },
  {
   "cell_type": "markdown",
   "id": "1",
   "metadata": {},
   "source": [
    "<b>1. What are the two latest user-defined exception constraints in Python 3.X?</b><br>Answer:<br>\n",
    "Two latest user defined exception constraints in Python 3.X are:\n",
    "- Almost all exceptions should actually derive from Exception; BaseException should only be used as a base class for exceptions that should only be handled at the top level, such as SystemExit or KeyboardInterrupt.<br><br>\n",
    "Python 2’s raise statement was designed at a time when exceptions weren’t classes, and an exception’s type, value, and traceback components were three separate objects:<br>\n",
    "raise ValueError, 'invalid input'<br>\n",
    "raise ValueError, 'invalid input', some_traceback<br><br>\n",
    "In Python 3, one single object includes all information about an exception:<br>\n",
    "raise ValueError('invalid input')<br>\n",
    "e = ValueError('invalid input')<br>\n",
    "e.&lowbar;&lowbar;traceback&lowbar;&lowbar; = some_traceback<br>\n",
    "raise e<br>\n",
    "- Raising exceptions. You must now use <i>raise Exception(args)</i> instead of <i>raise Exception, args</i>. Additionally, you can no longer explicitly specify a traceback; instead, if you have to do this, you can assign directly to the \\_\\_traceback\\_\\_ attribute"
   ]
  },
  {
   "cell_type": "markdown",
   "id": "2",
   "metadata": {},
   "source": [
    "<b>2. How are class-based exceptions that have been raised matched to handlers?</b><br>Answer:<br>\n",
    "A try clause can have any number of except clauses to handle different exceptions, however, only one will be executed in case an exception occurs.\n",
    "\n",
    "We can use a tuple of values to specify multiple exceptions in an except clause. Here is an example pseudo code.<br>\n",
    "try:<br>\n",
    "&emsp;\\# do something<br>\n",
    "&emsp;pass<br>\n",
    "\n",
    "except ValueError:<br>\n",
    "&emsp;\\# handle ValueError exception<br>\n",
    "&emsp;pass<br>\n",
    "\n",
    "except (TypeError, ZeroDivisionError):<br>\n",
    "&emsp;\\# handle multiple exceptions<br>\n",
    "&emsp;\\# TypeError and ZeroDivisionError<br>\n",
    "&emsp;pass<br>\n",
    "\n",
    "except:<br>\n",
    "&emsp;\\# handle all other exceptions<br>\n",
    "&emsp;pass<br>\n"
   ]
  },
  {
   "cell_type": "markdown",
   "id": "3",
   "metadata": {},
   "source": [
    "<b>3. Describe two methods for attaching context information to exception artefacts.</b><br>Answer:<br>\n",
    "- As of Python 3.0, raising an exception in the except block will automatically add the captured exception to the \\_\\_context\\_\\_ attribute of the new exception. This will result in a printout of both exceptions.\n",
    "Essentially, this is the way the current exception will carry information about the previous exception. For example:<br><br>\n",
    "try:<br>\n",
    "\t&emsp;raise ValueError('ValueError')<br>\n",
    "except ValueError:<br>\n",
    "\t&emsp;raise TypeError('TypeError')<br><br>\n",
    "<i>Output:<br>\n",
    "Traceback (most recent call last):<br>\n",
    "  &emsp;File \"&lt;stdin&gt;\", line 2, in &lt;module&gt;<br>\n",
    "ValueError: ValueError<br><br>\n",
    "During handling of the above exception, another exception occurred:<br><br>\n",
    "Traceback (most recent call last):<br>\n",
    "  &emsp;File \"&lt;stdin&gt;\", line 4, in &lt;module&gt;<br>\n",
    "TypeError: TypeError</i><br>\n",
    "- You can also add \\_\\_cause\\_\\_ to any exception using the expression raise ... from. In the example below, you can see that the message has changed:<br><br>\n",
    "try:<br>\n",
    "\t&emsp;raise ValueError('ValueError')<br>\n",
    "except ValueError as ve:<br>\n",
    "\t&emsp;raise TypeError('TypeError') from ve<br><br>\n",
    "<i>Output:<br>\n",
    "Traceback (most recent call last):<br>\n",
    "  &emsp;File \"&lt;stdin&gt;\", line 2, in &lt;module&gt;<br>\n",
    "ValueError: ValueError<br><br>\n",
    "The above exception was the direct cause of the following exception:<br><br>\n",
    "Traceback (most recent call last):<br>\n",
    "  &emsp;File \"&lt;stdin&gt;\", line 4, in &lt;module&gt;<br>\n",
    "TypeError: TypeError<br>\n",
    "</i>"
   ]
  },
  {
   "cell_type": "markdown",
   "id": "4",
   "metadata": {},
   "source": [
    "<b>4. Describe two methods for specifying the text of an exception object's error message.</b><br>Answer:<br>\n",
    "- str(): is called on an instance of this class, the representation of the argument(s) to the instance are returned, or the empty string when there were no arguments.\n",
    "\n",
    "- with_traceback(tb):\n",
    "This method sets tb as the new traceback for the exception and returns the exception object."
   ]
  },
  {
   "cell_type": "markdown",
   "id": "5",
   "metadata": {},
   "source": [
    "<b>5. Why do you no longer use string-based exceptions?</b><br>Answer:<br>\n",
    "User-defined Python exceptions can be either strings or Python classes. Since classes have many nice properties when used as exceptions, it is desirable to migrate to a situation where classes are used exclusively. "
   ]
  },
  {
   "cell_type": "code",
   "execution_count": null,
   "id": "dcc69486",
   "metadata": {},
   "outputs": [],
   "source": []
  }
 ],
 "metadata": {
  "kernelspec": {
   "display_name": "Python 3 (ipykernel)",
   "language": "python",
   "name": "python3"
  },
  "language_info": {
   "codemirror_mode": {
    "name": "ipython",
    "version": 3
   },
   "file_extension": ".py",
   "mimetype": "text/x-python",
   "name": "python",
   "nbconvert_exporter": "python",
   "pygments_lexer": "ipython3",
   "version": "3.9.7"
  }
 },
 "nbformat": 4,
 "nbformat_minor": 5
}
