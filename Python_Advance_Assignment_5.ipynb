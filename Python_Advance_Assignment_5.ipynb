{
 "cells": [
  {
   "cell_type": "markdown",
   "id": "994a9022",
   "metadata": {},
   "source": [
    "## Python_Advance_Assignment_5"
   ]
  },
  {
   "cell_type": "markdown",
   "id": "1",
   "metadata": {},
   "source": [
    "<b>1. What is the meaning of multiple inheritance?</b><br>Answer:<br>\n",
    "When a child class has more than one parent class it is multiple inheritance."
   ]
  },
  {
   "cell_type": "markdown",
   "id": "2",
   "metadata": {},
   "source": [
    "<b>2. What is the concept of delegation?</b><br>Answer:<br>\n",
    "Let's say you have an object x and want to change the behaviour of just one of its methods. You can create a new class that provides a new implementation of the method you're interested in changing and delegates all other methods to the corresponding method of x.\n",
    "\n",
    "Example:\n",
    "Here the UpperOut class redefines the write() method to convert the argument string to uppercase before calling the underlying self.\\_\\_outfile.write() method. All other methods are delegated to the underlying self.\\_\\_outfile object. The delegation is accomplished via the \\_\\_getattr\\_\\_ method; consult the language reference for more information about controlling attribute access.\n",
    "Example,"
   ]
  },
  {
   "cell_type": "code",
   "execution_count": 4,
   "id": "36ab94e9",
   "metadata": {},
   "outputs": [],
   "source": [
    "class UpperOut:\n",
    "\n",
    "    def __init__(self, outfile):\n",
    "        self._outfile = outfile\n",
    "\n",
    "    def write(self, s):\n",
    "        self._outfile.write(s.upper())\n",
    "\n",
    "    def __getattr__(self, name):\n",
    "        return getattr(self._outfile, name)"
   ]
  },
  {
   "cell_type": "markdown",
   "id": "3",
   "metadata": {},
   "source": [
    "<b>3. What is the concept of composition?</b><br>Answer:<br>\n",
    "In this concept, we will describe a class that references to one or more objects of other classes as an Instance variable. Here, by using the class name or by creating the object we can access the members of one class inside another class. It enables creating complex types by combining objects of different classes. It means that a class Composite can contain an object of another class Component.\n",
    "\n"
   ]
  },
  {
   "cell_type": "code",
   "execution_count": null,
   "id": "a31e79da",
   "metadata": {},
   "outputs": [],
   "source": [
    "#Example\n",
    "class Component:\n",
    "\n",
    "    # composite class constructor\n",
    "    def __init__(self):\n",
    "        print('Component class object created...')\n",
    "\n",
    "    # composite class instance method\n",
    "    def m1(self):\n",
    "        print('Component class m1() method executed...')\n",
    "\n",
    "\n",
    "class Composite:\n",
    "\n",
    "    # composite class constructor\n",
    "    def __init__(self):\n",
    "\n",
    "        # creating object of component class\n",
    "        self.obj1 = Component()\n",
    "        \n",
    "        print('Composite class object also created...')\n",
    "\n",
    "    # composite class instance method\n",
    "    def m2(self):\n",
    "        \n",
    "        print('Composite class m2() method executed...')\n",
    "\n",
    "        # calling m1() method of component class\n",
    "        self.obj1.m1()\n",
    "\n",
    "\n",
    "# creating object of composite class\"\"\"<br>\n",
    "obj2 = Composite()\n",
    "\n",
    "# calling m2() method of composite class\"\"\"<br>\n",
    "obj2.m2()\n"
   ]
  },
  {
   "cell_type": "markdown",
   "id": "4",
   "metadata": {},
   "source": [
    "<b>4. What are bound methods and how do we use them?</b><br>Answer:<br>\n",
    "Bound method is the one which is dependent on the instance of the class as the first argument. It passes the instance as the first argument which is used to access the variables and functions."
   ]
  },
  {
   "cell_type": "markdown",
   "id": "5",
   "metadata": {},
   "source": [
    "<b>5. What is the purpose of pseudo private attributes?</b><br>Answer:<br>\n",
    "Within a class method in Python, whenever a method assigns to a self attribute (e.g., self.attr = value), it changes or creates an attribute in the instance (inheritance searches happen only on reference, not on assignment). Because this is true even if multiple classes in a hierarchy assign to the same attribute, collisions are possible.\n",
    "\n",
    "<i>Psuedo private attribute</i> is created by prefixing the name with double underscores everywhere it is used in the class. It avoids potential name collisions in the instance, but it does not amount to true privacy. If you know the name of the enclosing class, you can still access either of these attributes anywhere you have a reference to the instance by using the fully expanded name\n",
    "\n",
    "Pseudoprivate attributes are also useful in larger frameworks or tools, both to avoid introducing new method names that might accidentally hide definitions elsewhere in the class tree and to reduce the chance of internal methods being replaced by names defined lower in the tree. If a method is intended for use only within a class that may be mixed into other classes, the double underscore prefix ensures that the method won't interfere with other names in the tree, especially in multiple-inheritance scenarios."
   ]
  },
  {
   "cell_type": "code",
   "execution_count": null,
   "id": "ca719cfa",
   "metadata": {},
   "outputs": [],
   "source": []
  }
 ],
 "metadata": {
  "kernelspec": {
   "display_name": "Python 3 (ipykernel)",
   "language": "python",
   "name": "python3"
  },
  "language_info": {
   "codemirror_mode": {
    "name": "ipython",
    "version": 3
   },
   "file_extension": ".py",
   "mimetype": "text/x-python",
   "name": "python",
   "nbconvert_exporter": "python",
   "pygments_lexer": "ipython3",
   "version": "3.9.7"
  }
 },
 "nbformat": 4,
 "nbformat_minor": 5
}
