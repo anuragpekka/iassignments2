{
 "cells": [
  {
   "cell_type": "markdown",
   "id": "994a9022",
   "metadata": {},
   "source": [
    "## Python_Advance_Assignment_16"
   ]
  },
  {
   "cell_type": "markdown",
   "id": "1",
   "metadata": {},
   "source": [
    "<b>1. What is the benefit of regular expressions?</b><br>Answer:<br>\n",
    "- Wide range of usage possibility, you may create one regular expression to validate any kind of string input.\n",
    "- Do more with less, keep your code cleaner. You can do so much with such concise code.\n",
    "- Faster validations, instead of having many IF and ELSE operators you may validate only once with a regular expression.\n"
   ]
  },
  {
   "cell_type": "markdown",
   "id": "2",
   "metadata": {},
   "source": [
    "<b>2. Describe the difference between the effects of '(ab)c+' and 'a(bc)+.' Which of these, if any, is the unqualified pattern 'abc+'?</b><br>Answer:<br>\n",
    "- '(ab)c+' will match with strings having 'ab', followed by one or more 'c'. Example, 'abc', 'abccc'\n",
    "- 'a(bc)+.' will match with strings having 'a', followed by one or more 'bc', followed by any single character. Example, 'abcd', 'abcbcc', 'abcc'\n",
    "\n",
    "'a(bc)+.' is unqualified pattern for 'abc+'"
   ]
  },
  {
   "cell_type": "markdown",
   "id": "3",
   "metadata": {},
   "source": [
    "<b>3. How much do you need to use the following sentence while using regular expressions?<br><br>import re</b><br>Answer:<br>The above statement is the first line that must be written before using regular expressions in Python."
   ]
  },
  {
   "cell_type": "markdown",
   "id": "4",
   "metadata": {},
   "source": [
    "<b>4. Which characters have special significance in square brackets when expressing a range, and under what circumstances?</b><br>Answer:<br>\n",
    "'-' has special significance in square brackets when expressing a range.<br>Different circumstances can be ,<br>\n",
    "[a-n]\tReturns a match for any lower case character, alphabetically between a and n<br>\n",
    "[0-9]\tReturns a match for any digit between 0 and 9<br>\n",
    "[0-5][0-9]\tReturns a match for any two-digit numbers from 00 and 59<br>\n",
    "[a-zA-Z]\tReturns a match for any character alphabetically between a and z, lower case OR upper case<br>"
   ]
  },
  {
   "cell_type": "markdown",
   "id": "5",
   "metadata": {},
   "source": [
    "<b>5. How does compiling a regular-expression object benefit you?</b><br>Answer:<br>\n",
    "Python’s re.compile() method is used to compile a regular expression pattern provided as a string into a regex pattern object (re.Pattern). Later we can use this pattern object to search for a match inside different target strings using regex methods such as a re.match() or re.search().\n"
   ]
  },
  {
   "cell_type": "markdown",
   "id": "6",
   "metadata": {},
   "source": [
    "<b>6. What are some examples of how to use the match object returned by re.match and re.search?</b><br>Answer:<br>"
   ]
  },
  {
   "cell_type": "code",
   "execution_count": 46,
   "id": "d3917b15",
   "metadata": {},
   "outputs": [
    {
     "name": "stdout",
     "output_type": "stream",
     "text": [
      "<class 're.Pattern'>\n"
     ]
    }
   ],
   "source": [
    "import re\n",
    "\n",
    "# pattern to find three consecutive digits\n",
    "string_pattern = r\"\\d{3}\"\n",
    "# compile string pattern to re.Pattern object\n",
    "regex_pattern = re.compile(string_pattern)\n",
    "\n",
    "# print the type of compiled pattern\n",
    "print(type(regex_pattern))\n",
    "# Output <class 're.Pattern'>\n"
   ]
  },
  {
   "cell_type": "code",
   "execution_count": 47,
   "id": "2dde5fa3",
   "metadata": {},
   "outputs": [
    {
     "data": {
      "text/plain": [
       "<re.Match object; span=(24, 27), match='251'>"
      ]
     },
     "execution_count": 47,
     "metadata": {},
     "output_type": "execute_result"
    }
   ],
   "source": [
    "str1 = \"Emma's luck numbers are 251 761 231 451\"\n",
    "result = regex_pattern.search(str1)\n",
    "result"
   ]
  },
  {
   "cell_type": "code",
   "execution_count": 48,
   "id": "ba1b4057",
   "metadata": {},
   "outputs": [
    {
     "data": {
      "text/plain": [
       "<re.Match object; span=(0, 3), match='344'>"
      ]
     },
     "execution_count": 48,
     "metadata": {},
     "output_type": "execute_result"
    }
   ],
   "source": [
    "str2 = \"344 is my number\"\n",
    "result = regex_pattern.match(str2)\n",
    "result"
   ]
  },
  {
   "cell_type": "raw",
   "id": "2b5d16e7",
   "metadata": {},
   "source": [
    "match matches only at the beginnning of string."
   ]
  },
  {
   "cell_type": "markdown",
   "id": "7",
   "metadata": {},
   "source": [
    "<b>7. What is the difference between using a vertical bar (|) as an alteration and using square brackets as a character set?</b><br>Answer:<br>\n",
    "Using alteration(|) for large set of expressions, like a range of characters, can be a long expression. With [] it is very simple to make such expressions.<br> Example, expression for matchng the alphabets from a to h -<br> \n",
    "With | it will be a very long expression like, 'a|b|c|d|e|f|g|h' but with []  it is just [a-h]."
   ]
  },
  {
   "cell_type": "markdown",
   "id": "8",
   "metadata": {},
   "source": [
    "<b>8. In regular-expression search patterns, why is it necessary to use the raw-string indicator (r)? In replacement strings?</b><br>Answer:<br>\n",
    "It necessary to use the raw-string indicator(r) in replacement string so that it does not change '\\\\' to escape sequence."
   ]
  },
  {
   "cell_type": "code",
   "execution_count": null,
   "id": "b7c4cfd6",
   "metadata": {},
   "outputs": [],
   "source": []
  }
 ],
 "metadata": {
  "kernelspec": {
   "display_name": "Python 3 (ipykernel)",
   "language": "python",
   "name": "python3"
  },
  "language_info": {
   "codemirror_mode": {
    "name": "ipython",
    "version": 3
   },
   "file_extension": ".py",
   "mimetype": "text/x-python",
   "name": "python",
   "nbconvert_exporter": "python",
   "pygments_lexer": "ipython3",
   "version": "3.9.7"
  }
 },
 "nbformat": 4,
 "nbformat_minor": 5
}
