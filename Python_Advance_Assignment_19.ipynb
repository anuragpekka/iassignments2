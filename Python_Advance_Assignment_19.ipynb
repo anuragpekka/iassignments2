{
 "cells": [
  {
   "cell_type": "markdown",
   "id": "994a9022",
   "metadata": {},
   "source": [
    "## Python_Advance_Assignment_19"
   ]
  },
  {
   "cell_type": "markdown",
   "id": "1",
   "metadata": {},
   "source": [
    "<b>1. Define the relationship between a class and its instances. Is it a one-to-one or a one-to-many partnership, for example?</b><br>Answer:<br>\n",
    "The relationship between a class and its instances is one-to-many. A class can have more than one instances.\n",
    "\n",
    "In the example below s1 and s2 are two different instances of the Python in-build class str."
   ]
  },
  {
   "cell_type": "code",
   "execution_count": 10,
   "id": "c78eb290",
   "metadata": {},
   "outputs": [
    {
     "name": "stdout",
     "output_type": "stream",
     "text": [
      "s1 class: <class 'str'>\n",
      "s2 class: <class 'str'>\n"
     ]
    }
   ],
   "source": [
    "#Example:\n",
    "s1 = \"sdasda\"\n",
    "s2 = \"dsdsg\"\n",
    "\n",
    "print(\"s1 class: {}\".format(type(s1)))\n",
    "print(\"s2 class: {}\".format(type(s2)))"
   ]
  },
  {
   "cell_type": "markdown",
   "id": "2",
   "metadata": {},
   "source": [
    "<b>2. What kind of data is held only in an instance?</b><br>Answer:<br>\n",
    "Instance variables are held only in an instance. Diffenrent instances of a class can have different values of the same instance variable."
   ]
  },
  {
   "cell_type": "markdown",
   "id": "3",
   "metadata": {},
   "source": [
    "<b>3. What kind of knowledge is stored in a class?</b><br>Answer:<br>\n",
    "Knowledge is stored in a class:\n",
    "* The class variables\n",
    "* Instance variables whose value is assigned inside a constructor or method with _self_\n",
    "* The methods(functions of class)\n",
    "* Parent class (if the class is inherited)\n"
   ]
  },
  {
   "cell_type": "markdown",
   "id": "4",
   "metadata": {},
   "source": [
    "<b>4. What exactly is a method, and how is it different from a regular function?</b><br>Answer:<br>\n",
    "Method is a function of a class that can be called by using instance of a class, like _instance.method()_.<br> \n",
    "It has at least one parameter(commonly _self_) which is a reference to the current instance of the class. A regular function don't have it. "
   ]
  },
  {
   "cell_type": "markdown",
   "id": "5",
   "metadata": {},
   "source": [
    "<b>5. Is inheritance supported in Python, and if so, what is the syntax?</b><br>Answer:<br>\n",
    "Yes, inheritence is supported in Python.<br>\n",
    "_Syntax_:<br>\n"
   ]
  },
  {
   "cell_type": "code",
   "execution_count": null,
   "id": "7f073256",
   "metadata": {},
   "outputs": [],
   "source": [
    "class Child_class(Parent_class):\n",
    "    #<body of class>"
   ]
  },
  {
   "cell_type": "markdown",
   "id": "6",
   "metadata": {},
   "source": [
    "<b>6. How much encapsulation (making instance or class variables private) does Python support?</b><br>Answer:<br>\n",
    "A instance or class variables can be made private by giving them a name with two or more leading underscores and no more than one trailing underscore."
   ]
  },
  {
   "cell_type": "markdown",
   "id": "7",
   "metadata": {},
   "source": [
    "<b>7. How do you distinguish between a class variable and an instance variable?</b><br>Answer:<br>\n",
    "Both are declared inside a class. Only instance variable is declared with _self_ keyword."
   ]
  },
  {
   "cell_type": "code",
   "execution_count": 26,
   "id": "354b8141",
   "metadata": {},
   "outputs": [
    {
     "name": "stdout",
     "output_type": "stream",
     "text": [
      "John Doe Engineer\n"
     ]
    }
   ],
   "source": [
    "#Example:\n",
    "class Person:\n",
    "    designation = \"Engineer\" #class variable\n",
    "    def __init__(self, fname, lname):\n",
    "        self.firstname = fname #instance variables\n",
    "        self.lastname = lname\n",
    "        \n",
    "\n",
    "    def printname(self, d):\n",
    "        print(self.firstname, self.lastname, d)\n",
    "\n",
    "x = Person(\"John\", \"Doe\")\n",
    "x.printname(Person.designation)\n"
   ]
  },
  {
   "cell_type": "markdown",
   "id": "8",
   "metadata": {},
   "source": [
    "<b>8. When, if ever, can self be included in a class's method definitions?</b><br>Answer:<br>\n",
    "The _self_ parameter included in a class's method definition if we want to access the method with an instance of the class."
   ]
  },
  {
   "cell_type": "markdown",
   "id": "9",
   "metadata": {},
   "source": [
    "<b>9. What is the difference between the \_\_add\_\_ and the \_\_radd\_\_ methods?</b><br>Answer:<br>\n",
    "\\_\\_add\\_\\_ magic method is used to add the attributes of the class instance. For example, let’s say object1 is an instance of a class A and object2 is an instance of class B and both of these classes have an attribute called ‘a’, that holds an integer. When the operation object1 + object2 is done the \\_\\_add\\_\\_ method implicitly adds the attributes of these instances like object1.a + object2.a, if defined so.\n",
    "\n",
    "\\_\\_radd\\_\\_ is only called if the left object does not have an \\_\\_add\\_\\_ method.\n",
    "\n",
    "Example below class X has no \\_\\_add\\_\\_()."
   ]
  },
  {
   "cell_type": "code",
   "execution_count": 51,
   "id": "deda62e5",
   "metadata": {},
   "outputs": [],
   "source": [
    "class X:\n",
    "    def __init__(self, num):\n",
    "        self.num = num\n",
    "    "
   ]
  },
  {
   "cell_type": "code",
   "execution_count": 54,
   "id": "1aa83898",
   "metadata": {},
   "outputs": [
    {
     "name": "stdout",
     "output_type": "stream",
     "text": [
      "5\n"
     ]
    }
   ],
   "source": [
    "class Y:\n",
    "    def __init__(self, num):\n",
    "        self.num = num\n",
    "    def __radd__(self, other_obj):\n",
    "        return Y(self.num+other_obj.num)\n",
    "\n",
    "    def __str__(self):\n",
    "        return str(self.num)\n",
    "\n",
    "x = X(3)\n",
    "y = Y(2)\n",
    "\n",
    "print(x+y)\n"
   ]
  },
  {
   "cell_type": "markdown",
   "id": "10",
   "metadata": {},
   "source": [
    "<b>10. When is it necessary to use a reflection method? When do you not need it, even though you support the operation in question?</b><br>Answer:<br>\n",
    "A Python code can find out about the type, class, attributes and methods of an object. This is referred to as reflection or introspection. \n",
    "Reflection-enabling functions include type(), isinstance(), callable(), dir() and getattr().\n",
    "* The type() method enables to find out about the type of an object.\n",
    "* isinstance() determines whether an object is an instance of a type or class.\n",
    "* issubclass() determines whether a class is a subclass of another class. Pertains to classes, not their instances.\n",
    "* callable() determines whether an object can be called.\n",
    "* dir() Returns the list of names of attributes of an object, which includes methods. \n",
    "* getattr() Returns the value of an attribute of an object, given the attribute name passed as a string."
   ]
  },
  {
   "cell_type": "markdown",
   "id": "11",
   "metadata": {},
   "source": [
    "<b>11. What is the \\_\\_iadd\\_\\_ method called?</b><br>Answer:<br>\n",
    "The Python \\_\\_iadd\\_\\_() magic method implements in-place addition x += y that adds together the operands and assigns the result to the left operand. This operation is also called _augmented arithmetic assignment_."
   ]
  },
  {
   "cell_type": "markdown",
   "id": "12",
   "metadata": {},
   "source": [
    "<b>12. Is the \\_\\_init\\_\\_ method inherited by subclasses? What do you do if you need to customize its behavior within a subclass?</b><br>Answer:<br>\n",
    "Yes, \\_\\_init\\_\\_() is inherited by the subclasses.<br>\n",
    "Redefine \\_\\_init\\_\\_() in subclass if you need to customize its behavior."
   ]
  },
  {
   "cell_type": "code",
   "execution_count": 67,
   "id": "815dd370",
   "metadata": {},
   "outputs": [
    {
     "name": "stdout",
     "output_type": "stream",
     "text": [
      "8\n"
     ]
    }
   ],
   "source": [
    "class Num:\n",
    "    def __init__(self,num):\n",
    "        self.n1 = num\n",
    "\n",
    "class Num2(Num):\n",
    "    def show(self):\n",
    "        print(self.n1)\n",
    "\n",
    "mynumber = Num2(8)\n",
    "mynumber.show()"
   ]
  },
  {
   "cell_type": "markdown",
   "id": "38d60bf9",
   "metadata": {},
   "source": [
    " You need to explicitly call the \\_\\_init\\_\\_() in the super class if you want to extend its behavior."
   ]
  },
  {
   "cell_type": "code",
   "execution_count": 68,
   "id": "f16f1ec0",
   "metadata": {},
   "outputs": [
    {
     "name": "stdout",
     "output_type": "stream",
     "text": [
      "16\n"
     ]
    }
   ],
   "source": [
    "class Num2(Num):\n",
    "    def __init__(self,num):\n",
    "        Num.__init__(self,num) #explicitly call the __init__() in the super class\n",
    "        self.n2 = self.n1 * 2\n",
    "        \n",
    "    def show(self):\n",
    "        print(self.n2)\n",
    "        \n",
    "mynumber = Num2(8)\n",
    "mynumber.show()"
   ]
  },
  {
   "cell_type": "code",
   "execution_count": null,
   "id": "964aad5e",
   "metadata": {},
   "outputs": [],
   "source": []
  }
 ],
 "metadata": {
  "kernelspec": {
   "display_name": "Python 3 (ipykernel)",
   "language": "python",
   "name": "python3"
  },
  "language_info": {
   "codemirror_mode": {
    "name": "ipython",
    "version": 3
   },
   "file_extension": ".py",
   "mimetype": "text/x-python",
   "name": "python",
   "nbconvert_exporter": "python",
   "pygments_lexer": "ipython3",
   "version": "3.9.7"
  }
 },
 "nbformat": 4,
 "nbformat_minor": 5
}
