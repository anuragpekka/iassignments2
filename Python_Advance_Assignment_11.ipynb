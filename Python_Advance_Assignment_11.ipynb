{
 "cells": [
  {
   "cell_type": "markdown",
   "id": "994a9022",
   "metadata": {},
   "source": [
    "## Python_Advance_Assignment_11"
   ]
  },
  {
   "cell_type": "markdown",
   "id": "1",
   "metadata": {},
   "source": [
    "<b>1. What is the concept of a metaclass?</b><br>Answer:<br>\n",
    "A metaclass in Python is a class of a class that defines how a class behaves. A class is itself an instance of a metaclass. A class in Python defines how the instance of the class will behave. Whenever we call class to create a class, there is a metaclass that does the magic of creating the class behind the scenes.\n"
   ]
  },
  {
   "cell_type": "markdown",
   "id": "2",
   "metadata": {},
   "source": [
    "<b>2. What is the best way to declare a class's metaclass?</b><br>Answer:<br>\n",
    "We can customize the class creation process by passing the metaclass keyword in the class definition. This can also be done by inheriting a class that has already passed in this keyword."
   ]
  },
  {
   "cell_type": "code",
   "execution_count": 2,
   "id": "b5eacf07",
   "metadata": {},
   "outputs": [],
   "source": [
    "class MyMeta(type):\n",
    "    pass\n",
    "\n",
    "class MyClass(metaclass=MyMeta): #passing the metaclass keyword\n",
    "    pass\n",
    "\n",
    "class MySubclass(MyClass): #inheriting metaclass\n",
    "    pass\n"
   ]
  },
  {
   "cell_type": "markdown",
   "id": "3",
   "metadata": {},
   "source": [
    "<b>3. How do class decorators overlap with metaclasses for handling classes?</b><br>Answer:<br>\n",
    "With decorators it requires us to add decoration syntax before each method we wish to decorate and to later remove that syntax when we no longer desire it. If we want to decorate every method of a class, this can become tedious in larger programs. It would be better if we could somehow apply the decorator to all of a class's methods automatically.\n",
    "\n",
    "With metaclasses, we can do exactly that—because they are run when a class is constructed, they are a natural place to add decoration wrappers to a class's methods. By scanning the class's attribute dictionary and testing for function objects there, we can automatically run methods through the decorator and rebind the original names to the results. The effect is the same as the automatic method name rebinding of decorators, but we can apply it more globally.\n"
   ]
  },
  {
   "cell_type": "markdown",
   "id": "4",
   "metadata": {},
   "source": [
    "<b>4. How do class decorators overlap with metaclasses for handling instances?</b><br>Answer:<br>\n",
    "Just like metaclasses, the decorator returns the original class from which instances are made from( not from a wrapper object). In fact, instance creation is not intercepted at all."
   ]
  },
  {
   "cell_type": "code",
   "execution_count": null,
   "id": "afadeb4e",
   "metadata": {},
   "outputs": [],
   "source": []
  }
 ],
 "metadata": {
  "kernelspec": {
   "display_name": "Python 3 (ipykernel)",
   "language": "python",
   "name": "python3"
  },
  "language_info": {
   "codemirror_mode": {
    "name": "ipython",
    "version": 3
   },
   "file_extension": ".py",
   "mimetype": "text/x-python",
   "name": "python",
   "nbconvert_exporter": "python",
   "pygments_lexer": "ipython3",
   "version": "3.9.7"
  }
 },
 "nbformat": 4,
 "nbformat_minor": 5
}
