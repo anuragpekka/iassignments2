{
 "cells": [
  {
   "cell_type": "markdown",
   "id": "994a9022",
   "metadata": {},
   "source": [
    "## Python_Advance_Assignment_21"
   ]
  },
  {
   "cell_type": "markdown",
   "id": "1",
   "metadata": {},
   "source": [
    "<b>1. What is a probability distribution, exactly? If the values are meant to be random, how can you predict them at all?</b><br>Answer:<br>\n",
    "\n",
    "A probability distribution is the mathematical function that gives the probabilities of occurrence of different possible outcomes for an experiment.\n",
    "\n",
    "Though the values are meant to be random they are predicted by probability functions, whose input space is related to the sample space, and gives a real number probability as its output."
   ]
  },
  {
   "cell_type": "raw",
   "id": "4196d037",
   "metadata": {},
   "source": [
    "Note:-\n",
    "Random experiment = Tossing a coin\n",
    "Outcome: Head or Tail\n",
    "Sample Point: The set of outcomes, {head , tail}\n",
    "Probability Distribution: A table or an equation that interconnects each outcome of a statistical\n",
    "experiment with its probability of occurrence.\n",
    "probability of occurrence head = 1/2\n",
    "\n",
    "Variables: A variable is defined as any symbol that can take any particular set of values.\n",
    "\n",
    "Random Variable: When the value of any variable is the outcome of a statistical experiment,\n",
    "that variable is determined as a Probability Distribution of random variables.\n",
    "It can be Discrete (not constant) or Continuous or both.\n",
    "\n",
    "X: denotes the Probability Distribution of random variable X\n",
    "\n",
    "P(X): The Probability of X\n",
    "\n",
    "p(X=x): The Probability that random variable x is equivalent to any particular value, represented by X.\n",
    "For example, P(X=1) states the Probability Distribution of the random variable X is equivalent to 1.\n",
    "\n",
    "In the development of the<br> probability function for a discrete random variable, two conditions must be satisfied:\n",
    "1) f(x) must be non-negative for each value of the random variable <br>\n",
    "2) The sum of the probabilities for each value of the random variable must equal one."
   ]
  },
  {
   "cell_type": "markdown",
   "id": "2",
   "metadata": {},
   "source": [
    "<b>2. Is there a distinction between true random numbers and pseudo-random numbers there is one? Why are the latter considered \"good enough\"?</b><br>Answer:<br>\n",
    "True random numbers is produced using some external physical variable that is unpredictable, such as radioactive decay of<br> isotopes or airwave static, rather than by an algorithm.\n",
    "\n",
    "Pseudo-random numbers are produced by an algorithm based on a distribution.\n",
    "\n",
    "Pseudo-random numbers is perfectly good enough as a random value, as long as no one learns the seed or the<br> internal state of the random generator. "
   ]
  },
  {
   "cell_type": "markdown",
   "id": "3",
   "metadata": {},
   "source": [
    "<b>3. What are the two main factors that influence the behaviour of a 'normal' probability distribution?</b><br>Answer:<br>\n",
    "Two main factors that influence the Normal distribution are the _mean_ and the _standard deviation_."
   ]
  },
  {
   "cell_type": "raw",
   "id": "584fdd85",
   "metadata": {},
   "source": [
    "Normal distribution, also known as the Gaussian distribution has properties:\n",
    "1. A probability distribution that is symmetric about the mean\n",
    "2. The data near the mean are more frequent in occurrence than data far from the mean."
   ]
  },
  {
   "cell_type": "markdown",
   "id": "4",
   "metadata": {},
   "source": [
    "<b>4. Provide a real-life example of a normal distribution.</b><br>Answer:<br>\n",
    "_Height of the population_ is the example of normal distribution. Most of the people in a specific population are of average <br>height. The number of people taller and shorter than the average height people is almost equal, and a very small number<br> of people are either extremely tall or extremely short."
   ]
  },
  {
   "cell_type": "markdown",
   "id": "5",
   "metadata": {},
   "source": [
    "<b>5. In the short term, how can you expect a probability distribution to behave? What do you think will happen as the number of trials grows?</b><br>Answer:<br>\n",
    "For a given input there will be a fixed probability. As the number of trials grows there will be no change in the probability for the given input"
   ]
  },
  {
   "cell_type": "markdown",
   "id": "6",
   "metadata": {},
   "source": [
    "<b>6. What kind of object can be shuffled by using random.shuffle?</b><br>Answer:<br>\n",
    "It is used to shuffle a sequence (list)."
   ]
  },
  {
   "cell_type": "markdown",
   "id": "7",
   "metadata": {},
   "source": [
    "<b>7. Describe the math package's general categories of functions.</b><br>Answer:<br>\n",
    "- Number-theoretic and representation functions\n",
    "- Power and logarithmic functions\n",
    "- Trigonometric functions\n",
    "- Angular conversion\n",
    "- Hyperbolic functions\n",
    "- Special functions"
   ]
  },
  {
   "cell_type": "markdown",
   "id": "8",
   "metadata": {},
   "source": [
    "<b>8. What is the relationship between exponentiation and logarithms?</b><br>Answer:<br>\n",
    "Exponentials and logarithms are related mathematical concepts – in fact, they are inverse functions of each other."
   ]
  },
  {
   "cell_type": "markdown",
   "id": "9",
   "metadata": {},
   "source": [
    "<b>9. What are the three logarithmic functions that Python supports?</b><br>Answer:<br>\n",
    "1. log(a,(Base)) : This function is used to compute the natural logarithm (Base e) of a. If 2 arguments are passed, it<br> computes the logarithm of the desired base of argument a, numerically value of log(a)/log(Base).\n",
    "2. log2(a) : This function is used to compute the logarithm base 2 of a. Displays more accurate result than log(a,2).\n",
    "3. log10(a) : This function is used to compute the logarithm base 10 of a. Displays more accurate result than log(a,10).\n",
    "4. log1p(a) : This function is used to compute logarithm(1+a) . "
   ]
  },
  {
   "cell_type": "code",
   "execution_count": null,
   "id": "da78ee47",
   "metadata": {},
   "outputs": [],
   "source": []
  }
 ],
 "metadata": {
  "kernelspec": {
   "display_name": "Python 3 (ipykernel)",
   "language": "python",
   "name": "python3"
  },
  "language_info": {
   "codemirror_mode": {
    "name": "ipython",
    "version": 3
   },
   "file_extension": ".py",
   "mimetype": "text/x-python",
   "name": "python",
   "nbconvert_exporter": "python",
   "pygments_lexer": "ipython3",
   "version": "3.9.7"
  }
 },
 "nbformat": 4,
 "nbformat_minor": 5
}
