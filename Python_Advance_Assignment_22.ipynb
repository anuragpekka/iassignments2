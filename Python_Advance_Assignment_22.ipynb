{
 "cells": [
  {
   "cell_type": "markdown",
   "id": "994a9022",
   "metadata": {},
   "source": [
    "## Python_Advance_Assignment_22"
   ]
  },
  {
   "cell_type": "markdown",
   "id": "1",
   "metadata": {},
   "source": [
    "<b>1. What are the benefits of the built-in array package, if any?</b><br>Answer:<br>\n",
    "When dealing with a huge number of elements, arrays use less memory than lists and they offer faster execution than lists.<br> More efficient in performing the mathematical operations than the list.\n"
   ]
  },
  {
   "cell_type": "markdown",
   "id": "2",
   "metadata": {},
   "source": [
    "<b>2. What are some of the array package's limitations?</b><br>Answer:<br>\n",
    "- Contains elements of same data types\n",
    "- Need to import the module explicitly to declare an array\n",
    "- It is difficult to modify an array since addition, deletion and update operation is performed on a single element at a time\n",
    "- To print or access array elements, we will require an explicit loop\n"
   ]
  },
  {
   "cell_type": "markdown",
   "id": "3",
   "metadata": {},
   "source": [
    "<b>3. Describe the main differences between the array and numpy packages.</b><br>Answer:<br>\n",
    "\n",
    "The major difference between the built-in array module and numpy array. A built-in __array__ is quite strict about the storage of objects in itself. It permits only that type of data to be stored in itself, which has been specified strictly by the typecode. We cannot store float value when typecode specifies that, int data has to be stored in the built-in array. However __numpy__ array is a bit tolerant or lenient in that matter, it will upcast or downcast and try to store the data at any cost. (Float was converted to int, even if that resulted in loss of data after decimal)."
   ]
  },
  {
   "cell_type": "markdown",
   "id": "4",
   "metadata": {},
   "source": [
    "<b>4. Explain the distinctions between the empty, ones, and zeros functions.</b><br>Answer:<br>\n",
    "__empty()__ , __zeros()__ and __ones()__ are the NumPy library functions to create two different arrays.<br> __zeros()__ function is used to create an array based on the particular shape and type. All array elements are initialized to 0, which is created by the zeros() function. \n",
    "<br>__ones()__ function works like the zeros() function. But the elements of the array created by the ones() function are initialized to  1.<br>\n",
    "__empty()__ Returns a new array of given shape and type, with random values.\n",
    "This function is used to create an array without initializing the entries of given shape and type. Just like numpy.zeros(), the numpy.empty() function doesn't set the array values to zero, and it is quite faster than the numpy.zeros()."
   ]
  },
  {
   "cell_type": "raw",
   "id": "66bf54e6",
   "metadata": {},
   "source": [
    "import numpy as np\n",
    "x=np.empty([2])\n",
    "x"
   ]
  },
  {
   "cell_type": "markdown",
   "id": "5",
   "metadata": {},
   "source": [
    "<b>5. In the fromfunction function, which is used to construct new arrays, what is the role of the callable argument?</b><br>Answer:<br>\n",
    "The _callable_ parameter is a function which is called with N parameters, where N is the rank of shape. Each parameter represents the coordinates of the array varying along a specific axis. For example, if shape were (2, 2), then the parameters would be array([[0, 0], [1, 1]]) and array([[0, 1], [0, 1]])."
   ]
  },
  {
   "cell_type": "markdown",
   "id": "6",
   "metadata": {},
   "source": [
    "<b>6. What happens when a numpy array is combined with a single-value operand (a scalar, such as an int or a floating-point value) through addition, as in the expression A + n?</b><br>Answer:<br>\n",
    "The scalar _n_ is added to the each item of the array."
   ]
  },
  {
   "cell_type": "code",
   "execution_count": 5,
   "id": "09b68251",
   "metadata": {},
   "outputs": [
    {
     "data": {
      "text/plain": [
       "array([[2, 3, 4, 5],\n",
       "       [2, 3, 1, 2]])"
      ]
     },
     "execution_count": 5,
     "metadata": {},
     "output_type": "execute_result"
    }
   ],
   "source": [
    "#Example\n",
    "import numpy as np\n",
    "A=np.array([[2,3,4,5],[2,3,1,2]])\n",
    "A+3.4\n",
    "A"
   ]
  },
  {
   "cell_type": "markdown",
   "id": "7",
   "metadata": {},
   "source": [
    "<b>7. Can array-to-scalar operations use combined operation-assign operators (such as += or *=)? What is the outcome?</b><br>Answer:<br>\n",
    "No, _array-to-scalar operations_ cannot use operation-assign operators. If used it will show error. "
   ]
  },
  {
   "cell_type": "code",
   "execution_count": 6,
   "id": "d324f4b0",
   "metadata": {},
   "outputs": [
    {
     "ename": "UFuncTypeError",
     "evalue": "Cannot cast ufunc 'add' output from dtype('float64') to dtype('int32') with casting rule 'same_kind'",
     "output_type": "error",
     "traceback": [
      "\u001b[1;31m-----------------------------------------------------------------\u001b[0m",
      "\u001b[1;31mUFuncTypeError\u001b[0m                  Traceback (most recent call last)",
      "\u001b[1;32m~\\AppData\\Local\\Temp/ipykernel_6596/3874714883.py\u001b[0m in \u001b[0;36m<module>\u001b[1;34m\u001b[0m\n\u001b[0;32m      1\u001b[0m \u001b[1;32mimport\u001b[0m \u001b[0mnumpy\u001b[0m \u001b[1;32mas\u001b[0m \u001b[0mnp\u001b[0m\u001b[1;33m\u001b[0m\u001b[1;33m\u001b[0m\u001b[0m\n\u001b[0;32m      2\u001b[0m \u001b[0mA\u001b[0m\u001b[1;33m=\u001b[0m\u001b[0mnp\u001b[0m\u001b[1;33m.\u001b[0m\u001b[0marray\u001b[0m\u001b[1;33m(\u001b[0m\u001b[1;33m[\u001b[0m\u001b[1;33m[\u001b[0m\u001b[1;36m2\u001b[0m\u001b[1;33m,\u001b[0m\u001b[1;36m3\u001b[0m\u001b[1;33m,\u001b[0m\u001b[1;36m4\u001b[0m\u001b[1;33m,\u001b[0m\u001b[1;36m5\u001b[0m\u001b[1;33m]\u001b[0m\u001b[1;33m,\u001b[0m\u001b[1;33m[\u001b[0m\u001b[1;36m2\u001b[0m\u001b[1;33m,\u001b[0m\u001b[1;36m3\u001b[0m\u001b[1;33m,\u001b[0m\u001b[1;36m1\u001b[0m\u001b[1;33m,\u001b[0m\u001b[1;36m2\u001b[0m\u001b[1;33m]\u001b[0m\u001b[1;33m]\u001b[0m\u001b[1;33m)\u001b[0m\u001b[1;33m\u001b[0m\u001b[1;33m\u001b[0m\u001b[0m\n\u001b[1;32m----> 3\u001b[1;33m \u001b[0mA\u001b[0m\u001b[1;33m+=\u001b[0m\u001b[1;36m3.2\u001b[0m\u001b[1;33m\u001b[0m\u001b[1;33m\u001b[0m\u001b[0m\n\u001b[0m\u001b[0;32m      4\u001b[0m \u001b[0mA\u001b[0m\u001b[1;33m\u001b[0m\u001b[1;33m\u001b[0m\u001b[0m\n",
      "\u001b[1;31mUFuncTypeError\u001b[0m: Cannot cast ufunc 'add' output from dtype('float64') to dtype('int32') with casting rule 'same_kind'"
     ]
    }
   ],
   "source": [
    "#Example\n",
    "import numpy as np\n",
    "A=np.array([[2,3,4,5],[2,3,1,2]])\n",
    "A+=3.2\n",
    "A"
   ]
  },
  {
   "cell_type": "markdown",
   "id": "8",
   "metadata": {},
   "source": [
    "<b>8. Does a numpy array contain fixed-length strings? What happens if you allocate a longer string to one of these arrays?</b><br>Answer:<br>\n",
    "Yes, numpy array can have fixed-length strings. If we allocate a longer string it will loose information."
   ]
  },
  {
   "cell_type": "code",
   "execution_count": 13,
   "id": "d0080e62",
   "metadata": {},
   "outputs": [
    {
     "data": {
      "text/plain": [
       "array([b'aaaaa'], dtype='|S5')"
      ]
     },
     "execution_count": 13,
     "metadata": {},
     "output_type": "execute_result"
    }
   ],
   "source": [
    "#Example\n",
    "import numpy as np\n",
    "A=np.array([\"aaaaaaaa\"],dtype='S5')\n",
    "A"
   ]
  },
  {
   "cell_type": "markdown",
   "id": "9",
   "metadata": {},
   "source": [
    "<b>9. What happens when you combine two numpy arrays using an operation like addition (+) or multiplication (*)? What are the conditions for combining two numpy arrays?</b><br>Answer:<br>\n",
    "When you combine two numpy arrays using an operation the result is an array containing the results of the operation. "
   ]
  },
  {
   "cell_type": "code",
   "execution_count": 17,
   "id": "fad3ed4f",
   "metadata": {},
   "outputs": [
    {
     "data": {
      "text/plain": [
       "array([[3, 4, 5],\n",
       "       [6, 4, 7]])"
      ]
     },
     "execution_count": 17,
     "metadata": {},
     "output_type": "execute_result"
    }
   ],
   "source": [
    "#Example\n",
    "import numpy as np\n",
    "A=np.array([[2,3,4], [5,3,6]])\n",
    "B=np.array([[1,1,1], [1,1,1]])\n",
    "A+B"
   ]
  },
  {
   "cell_type": "markdown",
   "id": "10",
   "metadata": {},
   "source": [
    "<b>10. What is the best way to use a Boolean array to mask another array?</b><br>Answer:<br>\n",
    "Best way to use a Boolean array to mask is to pass Boolean array inside [] operator for target array."
   ]
  },
  {
   "cell_type": "code",
   "execution_count": 26,
   "id": "8ff2ddf8",
   "metadata": {},
   "outputs": [
    {
     "name": "stdout",
     "output_type": "stream",
     "text": [
      "[0 1 2 3 4 5 6 7 8 9]\n",
      "[0 3 4 6 7 8 9]\n"
     ]
    }
   ],
   "source": [
    "#Example\n",
    "\n",
    "# importing NumPy\n",
    "import numpy as np\n",
    "# Creating a NumPy array\n",
    "arr = np.arange(10)\n",
    "# Printing our array to observe\n",
    "print(arr)\n",
    "\n",
    "#Boolean array\n",
    "b_array=[True, False,False,True,True,False,True,True,True,True]\n",
    "# Using boolean masking to filter elements\n",
    "print(arr[b_array])"
   ]
  },
  {
   "cell_type": "markdown",
   "id": "11",
   "metadata": {},
   "source": [
    "<b>11. What are three different ways to get the standard deviation of a wide collection of data using both standard Python and its packages? Sort the three of them by how quickly they execute.</b><br>Answer:<br>\n",
    "Standard Deviation in Python can be found using:\n",
    "1. statistics.stdev() function\n",
    "2. numpy.std() function\n",
    "3. Pandas Dataframe.std() module function\n",
    "\n",
    "Execution time least to most is- \n",
    "- numpy.std() (least)\n",
    "- statistics.stdev()\n",
    "- Dataframe.std() (most)"
   ]
  },
  {
   "cell_type": "raw",
   "id": "17643f10",
   "metadata": {},
   "source": [
    "mysetup='''\n",
    "import statistics as std\n",
    "lst = [1,2,3,4,5,6]\n",
    "'''\n",
    "mycode='''\n",
    "stat = std.stdev(lst)\n",
    "#print(\"stdev=\",stat)\n",
    "'''\n",
    "import timeit\n",
    "print(\"stdev=\",stat)\n",
    "print(timeit.timeit(setup=mysetup, stmt = mycode, number=100))\n",
    "\n",
    "mysetup='''\n",
    "import numpy as np\n",
    "num = np.arange(1,6)\n",
    "'''\n",
    "mycode='''\n",
    "stat = np.std(num)\n",
    "#print(\"stat=\",stat)\n",
    "'''\n",
    "print(\"stat=\",stat)\n",
    "print(timeit.timeit(setup=mysetup, stmt = mycode, number=100))\n",
    "\n",
    "mysetup='''\n",
    "import pandas as pd\n",
    "lst = [1,2,3,4,5,6]\n",
    "'''\n",
    "mycode='''\n",
    "data = pd.DataFrame(lst)\n",
    "stat = data.std()\n",
    "#print(\"stat=\",stat)\n",
    "'''\n",
    "print(\"stat=\",stat)\n",
    "print(timeit.timeit(setup=mysetup, stmt = mycode, number=100))"
   ]
  },
  {
   "cell_type": "markdown",
   "id": "12",
   "metadata": {},
   "source": [
    "<b>12. What is the dimensionality of a Boolean mask-generated array?</b><br>Answer:<br>\n",
    "One-dimension"
   ]
  },
  {
   "cell_type": "code",
   "execution_count": 81,
   "id": "70dcf9c1",
   "metadata": {},
   "outputs": [
    {
     "name": "stdout",
     "output_type": "stream",
     "text": [
      "arr:\n",
      "[[1 3 2]\n",
      " [4 3 6]]\n",
      "masked arr= [1 4 3]\n"
     ]
    }
   ],
   "source": [
    "##Example\n",
    "\n",
    "import numpy as np\n",
    "# Creating a NumPy array\n",
    "arr = np.array([[1,3,2],[4,3,6]])\n",
    "# Printing our array to observe\n",
    "print(\"arr:\")\n",
    "print(arr)\n",
    "\n",
    "#Boolean array\n",
    "b_array=np.array([[True, False,False],[True,True,False]])\n",
    "# Using boolean masking to filter elements\n",
    "print(\"masked arr=\",arr[b_array])"
   ]
  },
  {
   "cell_type": "code",
   "execution_count": null,
   "id": "d298ca7c",
   "metadata": {},
   "outputs": [],
   "source": []
  }
 ],
 "metadata": {
  "kernelspec": {
   "display_name": "Python 3 (ipykernel)",
   "language": "python",
   "name": "python3"
  },
  "language_info": {
   "codemirror_mode": {
    "name": "ipython",
    "version": 3
   },
   "file_extension": ".py",
   "mimetype": "text/x-python",
   "name": "python",
   "nbconvert_exporter": "python",
   "pygments_lexer": "ipython3",
   "version": "3.9.7"
  }
 },
 "nbformat": 4,
 "nbformat_minor": 5
}
