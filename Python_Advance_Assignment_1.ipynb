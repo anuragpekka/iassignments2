{
 "cells": [
  {
   "cell_type": "markdown",
   "id": "994a9022",
   "metadata": {},
   "source": [
    "## Python_Advance_Assignment_1"
   ]
  },
  {
   "cell_type": "markdown",
   "id": "1",
   "metadata": {},
   "source": [
    "<b>1. What is the purpose of Python's OOP?</b><br><br>Answer:<br>\n",
    "Purpose of Python OOP is to create used defined classes. Classes provide a means of bundling data and functionality together. Creating a new class creates a new type of object, allowing new instances of that type to be made. Each class instance can have attributes attached to it for maintaining its state. Class instances can also have methods (defined by their class) for modifying their state.\n",
    "\n",
    "We can think of a class as a sketch (prototype) of a house. It contains all the details about the floors, doors, windows, etc. Based on these descriptions we build the house. House is the object.\n",
    "Just like many houses can be made from a house's blueprint, we can create many objects from a class. "
   ]
  },
  {
   "cell_type": "markdown",
   "id": "2",
   "metadata": {},
   "source": [
    "<b>2. Where does an inheritance search look for an attribute?</b><br><br>Answer:<br>\n",
    "An inheritance search looks for an attribute first in the instance object, then in the class the instance was created from, then in all higher superclasses, progressing from left to right (by default). The search stops at the first place the attribute is found."
   ]
  },
  {
   "cell_type": "markdown",
   "id": "3",
   "metadata": {},
   "source": [
    "<b>3. How do you distinguish between a class object and an instance object?</b><br><br>Answer:<br>\n",
    "Classes are a kind of factory for creating multiple instances. Classes also support operator overloading methods, which instances inherit, and treat any functions nested in the class as methods for processing instances.\n",
    "\n",
    "Example of operator overloading: operator + is used to add two integers as well as join two strings and merge two lists. It is achievable because ‘+’ operator is overloaded by int class and str class. "
   ]
  },
  {
   "cell_type": "markdown",
   "id": "4",
   "metadata": {},
   "source": [
    "<b>4. What makes the first argument in a class’s method function special?</b><br><br>Answer:<br>\n",
    "By convention, the first argument in a class’s method is called <i>self</i>. Self is always pointing to Current Object. The instance to which the method belongs is passed automatically, but not received automatically. \n",
    "\n",
    "The first parameter of methods is the instance by which the method is called on.\n",
    "When we call a method of this object as myobject.method(arg1, arg2), this is automatically converted by Python into MyClass.method(myobject, arg1, arg2). "
   ]
  },
  {
   "cell_type": "markdown",
   "id": "5",
   "metadata": {},
   "source": [
    "<b>5. What is the purpose of the __init__ method?</b><br><br>Answer:<br>\n",
    "If the \\_\\_init\\_\\_ method is coded or inherited in a class, Python calls it automatically each time an instance of that class is created.<br> It is mainly used to instantiate instance variables."
   ]
  },
  {
   "cell_type": "markdown",
   "id": "6",
   "metadata": {},
   "source": [
    "<b>6. What is the process for creating a class instance?</b><br><br>Answer:<br>\n",
    "We can create a class instance by calling the class name followed by the arguments enclosed in parenthesis. Any arguments passed with the class name show up as arguments two and beyond in the \\_\\_init\\_\\_ constructor method.\n",
    "\n",
    "Example,<br>\n",
    "x = ClassName()<br>\n",
    "y = AnotherClass(arg1, arg2)"
   ]
  },
  {
   "cell_type": "markdown",
   "id": "7",
   "metadata": {},
   "source": [
    "<b>7. What is the process for creating a class?</b><br><br>Answer:<br>\n",
    "class ClassName():<br>\n",
    "<code for class>"
   ]
  },
  {
   "cell_type": "markdown",
   "id": "8",
   "metadata": {},
   "source": [
    "<b>8. How would you define the superclasses of a class?</b><br><br>Answer:<br>\n",
    "\n",
    "We pass the super classes like arguments to the class.\n",
    "\n",
    "Example<br>\n",
    "class Superclass1():<br>\n",
    "<code for class>\n",
    "\n",
    "class Superclass2():<br>\n",
    "<code for class>\n",
    "\n",
    "class ClassName(Superclass1, Superclass2):<br>\n",
    "<code for class>\n"
   ]
  },
  {
   "cell_type": "code",
   "execution_count": null,
   "id": "1b5c63b8",
   "metadata": {},
   "outputs": [],
   "source": []
  }
 ],
 "metadata": {
  "kernelspec": {
   "display_name": "Python 3 (ipykernel)",
   "language": "python",
   "name": "python3"
  },
  "language_info": {
   "codemirror_mode": {
    "name": "ipython",
    "version": 3
   },
   "file_extension": ".py",
   "mimetype": "text/x-python",
   "name": "python",
   "nbconvert_exporter": "python",
   "pygments_lexer": "ipython3",
   "version": "3.9.7"
  }
 },
 "nbformat": 4,
 "nbformat_minor": 5
}
