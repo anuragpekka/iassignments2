{
 "cells": [
  {
   "cell_type": "markdown",
   "id": "994a9022",
   "metadata": {},
   "source": [
    "## Python_Advance_Assignment_6"
   ]
  },
  {
   "cell_type": "markdown",
   "id": "1",
   "metadata": {},
   "source": [
    "<b>1. Describe three applications for exception processing.</b><br>Answer:<br>\n",
    "Three application for exception processing are:\n",
    "- except:  The code in this block will run when an exception occurs."
   ]
  },
  {
   "cell_type": "code",
   "execution_count": null,
   "id": "4100c758",
   "metadata": {},
   "outputs": [],
   "source": [
    "try:\n",
    "    # Some Code\n",
    "except:\n",
    "    # Executed if error in the\n",
    "    # try block"
   ]
  },
  {
   "cell_type": "markdown",
   "id": "fd4a3542",
   "metadata": {},
   "source": [
    "- else: This block runs when no exception are found. Its is optional."
   ]
  },
  {
   "cell_type": "code",
   "execution_count": null,
   "id": "0c8adeb1",
   "metadata": {},
   "outputs": [],
   "source": [
    "try:\n",
    "    # Some Code\n",
    "except:\n",
    "    # Executed if error in the\n",
    "    # try block\n",
    "else:\n",
    "    # execute if no exception"
   ]
  },
  {
   "cell_type": "markdown",
   "id": "27433530",
   "metadata": {},
   "source": [
    "- finally: Code in this block runs no matter exception occurs or not. Its is optional."
   ]
  },
  {
   "cell_type": "code",
   "execution_count": null,
   "id": "9c126fde",
   "metadata": {},
   "outputs": [],
   "source": [
    "try:\n",
    "    # Some Code.... \n",
    "    \n",
    "except:\n",
    "    # optional block\n",
    "    # Handling of exception (if required)\n",
    "\n",
    "else:\n",
    "    # execute if no exception\n",
    "\n",
    "finally:\n",
    "    # Some code .....(always executed)"
   ]
  },
  {
   "cell_type": "markdown",
   "id": "2",
   "metadata": {},
   "source": [
    "<b>2. What happens if you don't do something extra to treat an exception?</b><br>Answer:<br>\n",
    "Exception does not stop the execution of the program, however, it changes the normal flow of the program."
   ]
  },
  {
   "cell_type": "markdown",
   "id": "3",
   "metadata": {},
   "source": [
    "<b>3. What are your options for recovering from an exception in your script?</b><br>Answer:<br>\n",
    "- We can use the exception variable with the <i>except</i> statement. It is used by using the <i>as</i> keyword. <br>This object will return the cause of the exception.\n",
    "- we can avoid handling the exception using <i>pass</i> keyword in <i>except</i> block."
   ]
  },
  {
   "cell_type": "markdown",
   "id": "4",
   "metadata": {},
   "source": [
    "<b>4. Describe two methods for triggering exceptions in your script.</b><br>Answer:<br>\n",
    "Two methods for triggering exceptions:\n",
    "- <i>raise</i>: The raise statement allows the programmer to force a specific exception to occur. The argument in raise indicates the exception to be raised.\n",
    "- <i>assert</i>: An assert statement in Python evaluates the accompanying expression. If the expression is false, Python raises an AssertionError exception."
   ]
  },
  {
   "cell_type": "markdown",
   "id": "5",
   "metadata": {},
   "source": [
    "<b>5. Identify two methods for specifying actions to be executed at termination time, regardless of whether or not an exception exists.</b><br>Answer:<br>\n",
    "- finally"
   ]
  }
 ],
 "metadata": {
  "kernelspec": {
   "display_name": "Python 3 (ipykernel)",
   "language": "python",
   "name": "python3"
  },
  "language_info": {
   "codemirror_mode": {
    "name": "ipython",
    "version": 3
   },
   "file_extension": ".py",
   "mimetype": "text/x-python",
   "name": "python",
   "nbconvert_exporter": "python",
   "pygments_lexer": "ipython3",
   "version": "3.9.7"
  }
 },
 "nbformat": 4,
 "nbformat_minor": 5
}
