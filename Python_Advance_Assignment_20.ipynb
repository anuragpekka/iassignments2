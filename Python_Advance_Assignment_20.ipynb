{
 "cells": [
  {
   "cell_type": "markdown",
   "id": "994a9022",
   "metadata": {},
   "source": [
    "## Python_Advance_Assignment_20"
   ]
  },
  {
   "cell_type": "markdown",
   "id": "1",
   "metadata": {},
   "source": [
    "<b>1. Compare and contrast the float and Decimal classes' benefits and drawbacks.</b><br>Answer:<br>"
   ]
  },
  {
   "cell_type": "markdown",
   "id": "c51bb508",
   "metadata": {},
   "source": [
    "__Floats__<br>\n",
    "Use floats when convenience and speed matter. A float gives you an approximation of the number you declare. <br>\n",
    "For example, if I print 0.1 with 18 decimals places,I don’t actually get 0.1 but instead an approximation.<br>\n",
    ">print(f\"{0.1:.18f}\")<br>\n",
    "_Output: 0.100000000000000006<br>_\n",
    "\n",
    "Similarly, when doing operations, such as addition with floats, you get an approximation, <br>\n",
    "which can lead confusing code, such as the following.<br>\n",
    ">.1 + .1 + .1 == .3<br>\n",
    "_Output: False<br>_\n",
    ">.1 + .1 + .1<br>\n",
    "_Output: 0.30000000000000004_\n",
    "\n",
    "Intuitively, the addition makes sense, and at a glance, you expect the statement to be true.<br>\n",
    "However, because of the float approximation it turns out to be false. This demonstrates one of the <br>\n",
    "big issues with floats which is the lack of reliable equality testing. <br>\n",
    "To fix this equality test without the use of decimals we need to use rounding.<br>\n",
    ">round(.1 + .1 + .1, 10) == round(.3, 10)<br>\n",
    "_Output: True<br>_\n",
    ">round(.1 + .1 + .1, 10)<br>\n",
    "_Output: 0.3<br>_\n",
    "\n",
    "In this case, we round the floats to prevent any precision issues. Instead of using floats<br> \n",
    "and rounding frequently in your code, you can use decimals.<br>"
   ]
  },
  {
   "cell_type": "markdown",
   "id": "b3216375",
   "metadata": {},
   "source": [
    "__Decimals__<br>\n",
    "Use decimals when precision matters, such as with financial calculations. Decimals can suffer from their own precision issues,<br>\n",
    "but generally, decimals are more precise than floats. The performance difference between float and decimal, <br>\n",
    "with Python 3, is not outlandish, the precision benefits of a decimal outweigh the performance benefits<br>\n",
    "of a float.\n",
    "\n",
    "Let’s look at the previous examples with decimals instead of floats.<br>\n",
    "\n",
    ">from decimal import Decimal<br>\n",
    "print(f\"{Decimal('0.1'):.18f}\")<br>\n",
    "_Output: 0.100000000000000000_<br>\n",
    ">Decimal('.1') + Decimal('.1') + Decimal('.1') == Decimal('.3')<br>\n",
    "_Output: True_<br>\n",
    "\n",
    "Using decimals in these examples prevents the subtle bugs introduced by floats. Here, the decimals use strings for<br> initialization as using floats causes precision issues.\n",
    "\n",
    ">from decimal import Decimal<br>\n",
    "Decimal(0.01) == Decimal(\"0.01\")<br>\n",
    "_Output:False_<br>\n",
    "\n",
    "In this example, we expect these decimals to be equal, but, because of the precision issues with floats, this decimal <br>equality test returns false.<br>\n",
    "\n",
    ">Decimal(0.01)<br>\n",
    "_Output: Decimal('0.01000000000000000020816681711721685132943093776702880859375')_<br>\n",
    "Decimal(\"0.01\")<br>\n",
    "_Output: Decimal('0.01')_<br>\n",
    "\n",
    "In above example, the decimal declared as a float is not technically 0.01, which results in an equality test of false. <br>Converting straight from a float causes our Decimal object to inherit all of the imprecision that we were trying to <br>avoid in the first place and create subtle bugs."
   ]
  },
  {
   "cell_type": "markdown",
   "id": "2",
   "metadata": {},
   "source": [
    "<b>2. Decimal('1.200') and Decimal('1.2') are two objects to consider. In what sense are these the same object? Are these just two ways of representing the exact same value, or do they correspond to different internal states?</b><br>Answer:<br>\n",
    "The two decimals, Decimal('1.200') and Decimal('1.2'), are initialized using strings.<br> Using strings prevents precision issues and hence they are treated equal.\n",
    "\n",
    "The two decimals are internally different objects of Decimal class."
   ]
  },
  {
   "cell_type": "markdown",
   "id": "3",
   "metadata": {},
   "source": [
    "<b>3. What happens if the equality of Decimal('1.200') and Decimal('1.2') is checked?</b><br>Answer:<br>\n",
    "If the equality of Decimal('1.200') and Decimal('1.2') is checked the output will be __True__."
   ]
  },
  {
   "cell_type": "markdown",
   "id": "4",
   "metadata": {},
   "source": [
    "<b>4. Why is it preferable to start a Decimal object with a string rather than a floating-point value?</b><br>Answer:<br>\n",
    "Converting straight from a float causes our Decimal object to inherit all of the imprecision that we were trying to <br>avoid in the first place. All decimals should be initialized using strings to prevent precision issues."
   ]
  },
  {
   "cell_type": "markdown",
   "id": "5",
   "metadata": {},
   "source": [
    "<b>5. In an arithmetic phrase, how simple is it to combine Decimal objects with integers?</b><br>Answer:<br>\n",
    "When we create a Decimal object using an integer we can simply pass the integer in as an argument to the Decimal constructor:<br>\n",
    "\n",
    ">x = decimal.Decimal(34)  # 34<br>\n",
    "\n",
    "We can now use x just like any other number, and we'll get a Decimal object back when performing mathematical operations:<br><br>\n",
    "\n",
    ">x = decimal.Decimal(34)<br>\n",
    "print(x + 7)         # 41<br>\n",
    "print(type(x + 7))   # <class 'decimal.Decimal'><br>\n",
    "print(x // 7)        # 4<br>\n",
    "print(type(x // 7))  # <class 'decimal.Decimal'><br>"
   ]
  },
  {
   "cell_type": "markdown",
   "id": "6",
   "metadata": {},
   "source": [
    "<b>6. Can Decimal objects and floating-point values be combined easily?</b><br>Answer:<br>\n",
    "It's also possible to create a Decimal object from a float, but I'd generally advise against doing this. The example below should make it clear as to why:\n",
    "\n",
    ">x = decimal.Decimal(0.1)<br>\n",
    "print(x)  # 0.1000000000000000055511151231257827021181583404541015625\n",
    "\n",
    "Converting straight from a float causes our Decimal object to inherit all of the imprecision that we were trying to avoid in the first place."
   ]
  },
  {
   "cell_type": "markdown",
   "id": "7",
   "metadata": {},
   "source": [
    "<b>7. Using the Fraction class but not the Decimal class, give an example of a quantity that can be expressed with absolute precision.</b><br>Answer:<br>\n",
    "Decimals suffer from their own precision issues with this example.\n",
    "\n",
    "> Decimal('1') / Decimal('3') * Decimal('3') == Decimal('1')<br>\n",
    "_Output:False_<br>\n",
    "Decimal('1') / Decimal('3') * Decimal('3')<br>\n",
    "_Output:Decimal('0.9999999999999999999999999999')_<br>\n",
    "\n",
    "The float equivalent does not run into precision issues.<br>\n",
    "> (1.0 / 3.0) * 3.0 == 1.0<br>\n",
    "_Output:True_\n"
   ]
  },
  {
   "cell_type": "raw",
   "id": "95a710fd",
   "metadata": {},
   "source": [
    "Decimal have their own hidden rounding that cause precision issues, and to eliminate the hidden routing, <br>\n",
    "you need to use Python’s ___fractions___ module.\n",
    "\n",
    "> from fractions import Fraction<br>\n",
    "> Fraction('1') / Fraction('3') * Fraction('3') == Fraction('1')<br>\n",
    "_Output:True_\n",
    "\n",
    "The fractions module provides support for rational number arithmetic."
   ]
  },
  {
   "cell_type": "markdown",
   "id": "8",
   "metadata": {},
   "source": [
    "<b>8. Describe a quantity that can be accurately expressed by the Decimal or Fraction classes but not by a floating-point value.</b><br><br>Answer:<br>\n",
    "0.3 is one value that can be accurately expressed by the Decimal or Fraction classes but not by a floating-point value.\n",
    "\n",
    ">from decimal import Decimal<br>\n",
    "print(f\"{Decimal('0.3'):.20f}\") <br>\n",
    "Output: 0.30000000000000000000\n",
    "\n",
    ">print(f\"{0.3:.20f}\") <br>\n",
    "Output: 0.29999999999999998890"
   ]
  },
  {
   "cell_type": "raw",
   "id": "99e1433b",
   "metadata": {},
   "source": [
    "from fractions import Fraction\n",
    "print(f\"{Fraction('0.3')}\") #Fraction"
   ]
  },
  {
   "cell_type": "markdown",
   "id": "fa1f1520",
   "metadata": {},
   "source": [
    "<b>9.Consider the following two fraction objects: Fraction(1, 2) and Fraction(5, 10). Is the internal state of these two objects the same? Why do you think that is?</b><br>Answer:<br>\n",
    "The internal state of these two objects is same. They both represent the object Fraction(1, 2) of Fraction class."
   ]
  },
  {
   "cell_type": "markdown",
   "id": "9",
   "metadata": {},
   "source": [
    "<b>10. How do the Fraction class and the integer type (int) relate to each other? Containment or inheritance?</b><br>Answer:<br>\n",
    "\n",
    "Fraction class and the integer type (int) relate to each other by ___Containment___. The Fraction class inherits the properties _numerator_ and _denominator_ from the abstract base class _numbers.Rational_. The numerator and denominator values should be instances of _numbers.Integral_. \n",
    "\n",
    "Fraction class does not inherit from _numbers.Integral_, but references to objects of _numbers.Integral_ as an Instance variable. It has a HAS-A relationship with _numbers.Integral_."
   ]
  },
  {
   "cell_type": "code",
   "execution_count": null,
   "id": "8cee8e3d",
   "metadata": {},
   "outputs": [],
   "source": []
  }
 ],
 "metadata": {
  "kernelspec": {
   "display_name": "Python 3 (ipykernel)",
   "language": "python",
   "name": "python3"
  },
  "language_info": {
   "codemirror_mode": {
    "name": "ipython",
    "version": 3
   },
   "file_extension": ".py",
   "mimetype": "text/x-python",
   "name": "python",
   "nbconvert_exporter": "python",
   "pygments_lexer": "ipython3",
   "version": "3.9.7"
  }
 },
 "nbformat": 4,
 "nbformat_minor": 5
}
