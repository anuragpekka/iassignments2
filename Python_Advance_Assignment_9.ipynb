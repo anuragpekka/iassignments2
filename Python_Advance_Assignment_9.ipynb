{
 "cells": [
  {
   "cell_type": "markdown",
   "id": "994a9022",
   "metadata": {},
   "source": [
    "## Python_Advance_Assignment_9"
   ]
  },
  {
   "cell_type": "markdown",
   "id": "1",
   "metadata": {},
   "source": [
    "<b>1. In Python 3.X, what are the names and functions of string object types?</b><br>Answer:<br>\n",
    "Name of string objects types is <i>str</i>. The function of a <i>str</i> object is to handle textual data or strings. "
   ]
  },
  {
   "cell_type": "markdown",
   "id": "2",
   "metadata": {},
   "source": [
    "<b>2. How do the string forms in Python 3.X vary in terms of operations?</b><br>Answer:<br>\n",
    "String literals are written in a variety of ways:\n",
    "- Single quotes: 'allows embedded \"double\" quotes'\n",
    "- Double quotes: \"allows embedded 'single' quotes\"\n",
    "- Triple quoted: '''Three single quotes''', \"\"\"Three double quotes\"\"\"\n",
    "Triple quoted strings may span multiple lines - all associated whitespace will be included in the string literal.\n",
    "\n",
    "String literals that are part of a single expression and have only whitespace between them will be implicitly converted to a single string literal.<br> That is, (\"spam \" \"eggs\") == \"spam eggs\".\n",
    "\n",
    "There is also no mutable string type, but str.join() or io.StringIO can be used to efficiently construct strings from multiple fragments."
   ]
  },
  {
   "cell_type": "markdown",
   "id": "3",
   "metadata": {},
   "source": [
    "<b>3. In 3.X, how do you put non-ASCII Unicode characters in a string?</b><br>Answer:<br>\n",
    "Put non-ASCII characters in string using hexadecimal code with \\x prefix."
   ]
  },
  {
   "cell_type": "code",
   "execution_count": 17,
   "id": "51822d8e",
   "metadata": {},
   "outputs": [
    {
     "name": "stdout",
     "output_type": "stream",
     "text": [
      "A string in pythØn.\n"
     ]
    }
   ],
   "source": [
    "#Example\n",
    "s = 'A string in pyth\\xd8n.' #\\xd8\n",
    "print(s)"
   ]
  },
  {
   "cell_type": "markdown",
   "id": "4",
   "metadata": {},
   "source": [
    "<b>4. In Python 3.X, what are the key differences between text-mode and binary-mode files?</b><br>Answer:<br>\n",
    "When files are created in binary mode they are stored as bytes. When opened using any text editor they are not human-readable."
   ]
  },
  {
   "cell_type": "markdown",
   "id": "5",
   "metadata": {},
   "source": [
    "<b>5. How can you interpret a Unicode text file containing text encoded in a different encoding than your platform's default?</b><br>Answer:<br>\n",
    "By opening file in read mode and passing name of encoding as the <i>encoding</i> argument in open() function.<br>\n",
    "Example,<br>\n",
    "file = open(\"sample.txt\", mode=\"r\", encoding=\"UTF-8\")"
   ]
  },
  {
   "cell_type": "markdown",
   "id": "6",
   "metadata": {},
   "source": [
    "<b>6. What is the best way to make a Unicode text file in a particular encoding format?</b><br>Answer:<br>\n",
    "By opening file in write mode and passing name of encoding as the <i>encoding</i> argument in open() function.<br>\n",
    "Example,<br>\n",
    "file = open(\"sample.txt\", mode=\"w\", encoding=\"UTF-8\")"
   ]
  },
  {
   "cell_type": "markdown",
   "id": "7",
   "metadata": {},
   "source": [
    "<b>7. What qualifies ASCII text as a form of Unicode text?</b><br>Answer:<br>\n",
    "The first 128 Unicode characters point to ASCII characters. It is largely the English alphabets, the lowercase letters (a-z), uppercase letters (A-Z), symbols such as punctuation marks, and the digits (0-9)."
   ]
  },
  {
   "cell_type": "markdown",
   "id": "8",
   "metadata": {},
   "source": [
    "<b>8. How much of an effect does the change in string types in Python 3.X have on your code?</b><br>Answer:<br>\n",
    "- In Python 2, the str type was used for two different kinds of values – text and bytes, whereas in Python 3, these are separate and incompatible types.\n",
    "\n",
    "- In Python 3, the u prefix does nothing; it is only allowed for backwards compatibility. Likewise, the b prefix does nothing in Python 2.\n",
    "\n",
    "- In Python 2, the r prefix could be combined with u to avoid processing backslash escapes. However, this did not turn off processing Unicode escapes (\\u.... or \\U........), as the u prefix took precedence over r. Python 3 avoids the choice between confusing or backwards-incompatible semantics by forbidding ur altogether.\n",
    "\n",
    "- Because the str and unicode types in Python 2 could be used interchangeably, it sometimes didn’t matter which of the types a particular value had. In Python 3, the concept of basestring makes no sense: text is only represented by str.\n",
    "\n"
   ]
  },
  {
   "cell_type": "code",
   "execution_count": null,
   "id": "29757685",
   "metadata": {},
   "outputs": [],
   "source": []
  }
 ],
 "metadata": {
  "kernelspec": {
   "display_name": "Python 3 (ipykernel)",
   "language": "python",
   "name": "python3"
  },
  "language_info": {
   "codemirror_mode": {
    "name": "ipython",
    "version": 3
   },
   "file_extension": ".py",
   "mimetype": "text/x-python",
   "name": "python",
   "nbconvert_exporter": "python",
   "pygments_lexer": "ipython3",
   "version": "3.9.7"
  }
 },
 "nbformat": 4,
 "nbformat_minor": 5
}
