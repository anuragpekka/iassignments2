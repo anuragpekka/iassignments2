{
 "cells": [
  {
   "cell_type": "markdown",
   "id": "994a9022",
   "metadata": {},
   "source": [
    "## Python_Advance_Assignment_18"
   ]
  },
  {
   "cell_type": "markdown",
   "id": "1",
   "metadata": {},
   "source": [
    "<b>1. Describe the differences between text and binary files in a single paragraph.</b><br>Answer:<br>\n",
    "* In text file, text, character, numbers are stored one character per byte i.e. 32667 occupies 5 bytes even though it occupies 2 bytes in memory. In binary file data is stored in binary format and each data would occupy the same number of bytes on disks as it occupies in memory.\n",
    "\n",
    "* In the text file, the newline character is converted to carriage-return/linefeed before being written to the disk. In binary file, conversion of newline to carriage-return and linefeed does not take place.\n",
    "\n",
    "* Text files are used to store data more user friendly. Binary files are used to store data more compactly.\n",
    "\n",
    "* In the text file, a special character whose ASCII value is 26 inserted after the last character to mark the end of file. In the binary file no such character is present. Files keep track of the end of the file from the number of characters present.\n",
    "\n",
    "* Content written in text files is human readable. Content written in binary files is not human readable and looks like encrypted content."
   ]
  },
  {
   "cell_type": "markdown",
   "id": "2",
   "metadata": {},
   "source": [
    "<b>2. What are some scenarios where using text files will be the better option? When would you like to use binary files instead of text files?</b><br>Answer:<br>\n",
    "Use text file when you want a human readable file, otherwise we can use binary files.\n",
    "\n",
    "Binary files can be usefull for:\n",
    "* faster input and output\n",
    "* smaller file size\n",
    "* file formats which are not human readable like .zip, .gif, .png, .exe, etc"
   ]
  },
  {
   "cell_type": "markdown",
   "id": "3",
   "metadata": {},
   "source": [
    "<b>3. What are some of the issues with using binary operations to read and write a Python integer directly to disc?</b><br>Answer:<br>\n",
    "While writing an integer directly to the disk we get,<br>\n",
    "___TypeError___ : a bytes-like object is required, not 'int'\n",
    "<br>_Example_:"
   ]
  },
  {
   "cell_type": "code",
   "execution_count": 25,
   "id": "a830423d",
   "metadata": {},
   "outputs": [
    {
     "ename": "TypeError",
     "evalue": "a bytes-like object is required, not 'int'",
     "output_type": "error",
     "traceback": [
      "\u001b[1;31m---------------------------------------------------------------------------\u001b[0m",
      "\u001b[1;31mTypeError\u001b[0m                                 Traceback (most recent call last)",
      "\u001b[1;32m~\\AppData\\Local\\Temp/ipykernel_20136/2611302698.py\u001b[0m in \u001b[0;36m<module>\u001b[1;34m\u001b[0m\n\u001b[0;32m      1\u001b[0m \u001b[0ma\u001b[0m \u001b[1;33m=\u001b[0m \u001b[1;36m45\u001b[0m\u001b[1;33m\u001b[0m\u001b[1;33m\u001b[0m\u001b[0m\n\u001b[0;32m      2\u001b[0m \u001b[1;32mwith\u001b[0m \u001b[0mopen\u001b[0m\u001b[1;33m(\u001b[0m\u001b[1;34m\"test.bin\"\u001b[0m\u001b[1;33m,\u001b[0m \u001b[1;34m\"wb\"\u001b[0m\u001b[1;33m)\u001b[0m \u001b[1;32mas\u001b[0m \u001b[0mf\u001b[0m\u001b[1;33m:\u001b[0m\u001b[1;33m\u001b[0m\u001b[1;33m\u001b[0m\u001b[0m\n\u001b[1;32m----> 3\u001b[1;33m     \u001b[0mf\u001b[0m\u001b[1;33m.\u001b[0m\u001b[0mwrite\u001b[0m\u001b[1;33m(\u001b[0m\u001b[0ma\u001b[0m\u001b[1;33m)\u001b[0m\u001b[1;33m\u001b[0m\u001b[1;33m\u001b[0m\u001b[0m\n\u001b[0m\u001b[0;32m      4\u001b[0m \u001b[1;33m\u001b[0m\u001b[0m\n",
      "\u001b[1;31mTypeError\u001b[0m: a bytes-like object is required, not 'int'"
     ]
    }
   ],
   "source": [
    "a = 45\n",
    "with open(\"test.bin\", \"wb\") as f:\n",
    "    f.write(a)\n",
    "    "
   ]
  },
  {
   "cell_type": "markdown",
   "id": "3ccce43b",
   "metadata": {},
   "source": [
    "We should initialize ___a___ as,<br>\n",
    "_a = b\"45\"_"
   ]
  },
  {
   "cell_type": "markdown",
   "id": "4",
   "metadata": {},
   "source": [
    "<b>4. Describe a benefit of using the with keyword instead of explicitly opening a file.</b><br>Answer:<br>\n",
    "When using \"with\" keyword we don't need to close the file explicitly after opening it."
   ]
  },
  {
   "cell_type": "markdown",
   "id": "5",
   "metadata": {},
   "source": [
    "<b>5. Does Python have the trailing newline while reading a line of text? Does Python append a newline when you write a line of text?</b><br>Answer:<br>\n",
    "No, Python does not have the trailing newline while reading a line of text.<br>\n",
    "No, Python does not append a newline when you write a line of text."
   ]
  },
  {
   "cell_type": "markdown",
   "id": "6",
   "metadata": {},
   "source": [
    "<b>6. What file operations enable for random-access operation?</b><br>Answer:<br>Following operaitions help in random access in Python:\n",
    "* seek()\n",
    "* linecache.getline()"
   ]
  },
  {
   "cell_type": "markdown",
   "id": "7",
   "metadata": {},
   "source": [
    "<b>7. When do you think you'll use the struct package the most?</b><br>Answer:<br>"
   ]
  },
  {
   "cell_type": "markdown",
   "id": "1be7f4ca",
   "metadata": {},
   "source": [
    "Python struct module can be used in handling binary data stored in files, database or from network connections etc.\n",
    "\n"
   ]
  },
  {
   "cell_type": "code",
   "execution_count": 42,
   "id": "efba4b3a",
   "metadata": {},
   "outputs": [
    {
     "name": "stdout",
     "output_type": "stream",
     "text": [
      "b'\\x01\\x00\\x02\\x00\\x05\\x00\\x00\\x00\\xbd\\x01\\x00\\x00'\n",
      "(True, 2, 5, 445)\n"
     ]
    }
   ],
   "source": [
    "import struct\n",
    "\n",
    "# '?' -> _BOOL , 'h' -> short, 'i' -> int and 'l' -> long\n",
    "var = struct.pack('?hil', True, 2, 5, 445)\n",
    "print(var)\n",
    "\n",
    "# struct.unpack() return a tuples\n",
    "# Variables V1, V2, V3,.. are returned as elements of tuple\n",
    "tup = struct.unpack('?hil', var)\n",
    "print(tup)\n"
   ]
  },
  {
   "cell_type": "markdown",
   "id": "8",
   "metadata": {},
   "source": [
    "<b>8. When is pickling the best option?</b><br>Answer:<br>\n",
    "“Pickling” is the best when we want to store a Python object hierarchy as a byte stream in a file.<br>\n",
    "The pickle file can be “unpicked”, whereby a byte stream (from a binary file or bytes-like object) is converted back into an object hierarchy."
   ]
  },
  {
   "cell_type": "markdown",
   "id": "9",
   "metadata": {},
   "source": [
    "<b>9. When will it be best to use the shelve package?</b><br>Answer:<br>\n",
    "The shelve package in Python is used for persisting data when using a relational database solution is not required. <br>The shelf object defined in this module is dictionary-like object which is persistently stored in a disk file."
   ]
  },
  {
   "cell_type": "markdown",
   "id": "10",
   "metadata": {},
   "source": [
    "<b>10. What is a special restriction when using the shelve package, as opposed to using other data dictionaries?</b><br>Answer:<br>\n",
    "Only string data type can be used as key in this special dictionary object, whereas any picklable object can serve as value."
   ]
  },
  {
   "cell_type": "code",
   "execution_count": null,
   "id": "62b31669",
   "metadata": {},
   "outputs": [],
   "source": []
  }
 ],
 "metadata": {
  "kernelspec": {
   "display_name": "Python 3 (ipykernel)",
   "language": "python",
   "name": "python3"
  },
  "language_info": {
   "codemirror_mode": {
    "name": "ipython",
    "version": 3
   },
   "file_extension": ".py",
   "mimetype": "text/x-python",
   "name": "python",
   "nbconvert_exporter": "python",
   "pygments_lexer": "ipython3",
   "version": "3.9.7"
  }
 },
 "nbformat": 4,
 "nbformat_minor": 5
}
