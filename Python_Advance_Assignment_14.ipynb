{
 "cells": [
  {
   "cell_type": "markdown",
   "id": "994a9022",
   "metadata": {},
   "source": [
    "## Python_Advance_Assignment_14"
   ]
  },
  {
   "cell_type": "markdown",
   "id": "1",
   "metadata": {},
   "source": [
    "<b>1. Is an assignment operator like += only for show? Is it possible that it would lead to faster results at the runtime?</b><br>Answer:<br>\n",
    "In Python there is not much difference in the speed of the += operator than the normal + and =."
   ]
  },
  {
   "cell_type": "markdown",
   "id": "2",
   "metadata": {},
   "source": [
    "<b>2. What is the smallest number of statements you'd have to write in most programming languages to replace the Python expression a, b = a + b, a?</b><br>Answer:<br>\n",
    "a += b<br>\n",
    "b = a"
   ]
  },
  {
   "cell_type": "markdown",
   "id": "3",
   "metadata": {},
   "source": [
    "<b>3. In Python, what is the most effective way to set a list of 100 integers to 0?</b><br>Answer:<br>\n",
    "List comprehension<br>\n",
    "list1 = [0 for i in range(0,100)]"
   ]
  },
  {
   "cell_type": "markdown",
   "id": "4",
   "metadata": {},
   "source": [
    "<b>4. What is the most effective way to initialise a list of 99 integers that repeats the sequence 1, 2, 3? S If necessary, show step-by-step instructions on how to accomplish this.</b><br>Answer:<br>"
   ]
  },
  {
   "cell_type": "code",
   "execution_count": 27,
   "id": "8759e5fa",
   "metadata": {},
   "outputs": [
    {
     "name": "stdout",
     "output_type": "stream",
     "text": [
      "[1, 2, 3, 1, 2, 3, 1, 2, 3, 1, 2, 3, 1, 2, 3, 1, 2, 3, 1, 2, 3, 1, 2, 3, 1, 2, 3, 1, 2, 3, 1, 2, 3, 1, 2, 3, 1, 2, 3, 1, 2, 3, 1, 2, 3, 1, 2, 3, 1, 2, 3, 1, 2, 3, 1, 2, 3, 1, 2, 3, 1, 2, 3, 1, 2, 3, 1, 2, 3, 1, 2, 3, 1, 2, 3, 1, 2, 3, 1, 2, 3, 1, 2, 3, 1, 2, 3, 1, 2, 3, 1, 2, 3, 1, 2, 3, 1, 2, 3]\n",
      "length=99\n"
     ]
    }
   ],
   "source": [
    "#Steps to initialise the list:\n",
    "#1. Intialize an list [1,2,3]\n",
    "l = [1,2,3]\n",
    "\n",
    "#2. extend the list using '*' operator for 99/3 = 33 times\n",
    "l = l * int(99/3)\n",
    "print(l)\n",
    "print(f\"length={len(l)}\")"
   ]
  },
  {
   "cell_type": "markdown",
   "id": "5",
   "metadata": {},
   "source": [
    "<b>5. If you're using IDLE to run a Python application, explain how to print a multidimensional list as efficiently?</b><br>Answer:<br>\n",
    "Using numpy we can handle multidimensional list efficiently.\n",
    "\n",
    "Example,<br>\n",
    "import numpy as np<br>\n",
    "arr = np.array([[1,2,3],[4,5,6]])<br>\n",
    "print(arr)"
   ]
  },
  {
   "cell_type": "markdown",
   "id": "6",
   "metadata": {},
   "source": [
    "<b>6. Is it possible to use list comprehension with a string? If so, how can you go about doing it?</b><br>Answer:<br>\n",
    "Yes, it is possible to use list  comprehension with a string."
   ]
  },
  {
   "cell_type": "code",
   "execution_count": 33,
   "id": "ca8a993b",
   "metadata": {},
   "outputs": [
    {
     "name": "stdout",
     "output_type": "stream",
     "text": [
      "['T', 'h', 'i', 's', ' ', 'i', 's', ' ', 'a', ' ', 's', 't', 'r', 'i', 'n', 'g', '.']\n"
     ]
    }
   ],
   "source": [
    "#Example,\n",
    "s = \"This is a string.\"\n",
    "list_ = [c for c in s]\n",
    "print(list_)"
   ]
  },
  {
   "cell_type": "markdown",
   "id": "7",
   "metadata": {},
   "source": [
    "<b>7. From the command line, how do you get support with a user-written Python programme? Is this possible from inside IDLE?</b><br>Answer:<br>\n",
    "In IDLE we can get support with a user-written Python programme in following menus:<br>\n",
    "Debug menu (Shell window only)\n",
    "1. Go to File/Line<br>Look on the current line. with the cursor, and the line above for a filename and line number. If found, open the file if not already open, and show the line. Use this to view source lines referenced in an exception traceback and lines found by Find in Files. Also available in the context menu of the Shell window and Output windows.\n",
    "\n",
    "2. Debugger (toggle)<br>When activated, code entered in the Shell or run from an Editor will run under the debugger. In the Editor, breakpoints can be set with the context menu. This feature is still incomplete and somewhat experimental.\n",
    "\n",
    "3. Stack Viewer<br>Show the stack traceback of the last exception in a tree widget, with access to locals and globals.\n",
    "\n",
    "Options menu (Shell and Editor)\n",
    "1. Configure IDLE<br>Open a configuration dialog and change preferences for the following: fonts, indentation, keybindings, text color themes, startup windows and size, additional help sources, and extensions.\n",
    "\n",
    "2. Show/Hide Code Context (Editor Window only)<br>Open a pane at the top of the edit window which shows the block context of the code which has scrolled above the top of the window. See Code Context in the Editing and Navigation section below.\n",
    "\n",
    "3. Show/Hide Line Numbers (Editor Window only)<br>Open a column to the left of the edit window which shows the number of each line of text.\n"
   ]
  },
  {
   "cell_type": "markdown",
   "id": "8",
   "metadata": {},
   "source": [
    "<b>8. Functions are said to be “first-class objects” in Python but not in most other languages, such as C++ or Java. What can you do in Python with a function (callable object) that you can't do in C or C++?</b><br>Answer:<br>\n",
    "Functions in python are first class objects. This means -\n",
    "- They can be passed as arguments to other functions, assigned to variables or even stored as elements in various data structures.<br>\n",
    "- The ability to perform the same operation on a list of elements is provided by a higher-order python function(functions that act on or return other functions) called map.\n"
   ]
  },
  {
   "cell_type": "markdown",
   "id": "9",
   "metadata": {},
   "source": [
    "<b>9. How do you distinguish between a wrapper, a wrapped feature, and a decorator?</b><br>Answer:<br>\n",
    "- <i>Wrappers</i> around the functions that allow programmers to modify the behavior of function or class. Decorators allow us to wrap another function in order to extend the behavior of the wrapped function, without permanently modifying it. <br>\n",
    "- <i>Wrapped Feature</i> is the function or class on which the wrapper function is applied.\n",
    "- <i>Decorators</i> - Wrappers are also knows as  decorators"
   ]
  },
  {
   "cell_type": "markdown",
   "id": "10",
   "metadata": {},
   "source": [
    "<b>10. If a function is a generator function, what does it return?</b><br>Answer:<br>\n",
    "\n",
    "A generator is a function that returns an object (iterator) which we can iterate over (one value at a time)."
   ]
  },
  {
   "cell_type": "raw",
   "id": "b14ca5f1",
   "metadata": {},
   "source": [
    "# A generator function that yields 1 for first time,\n",
    "# 2 second time and 3 third time\n",
    "def simpleGeneratorFun():\n",
    "    yield 1\n",
    "    yield 2\n",
    "    yield 3\n",
    "\n",
    "iter_obj = simpleGeneratorFun()\n",
    "print(f\"from next - {iter_obj.__next__()}\")\n",
    "\n",
    "for val in iter_obj:\n",
    "    print(f\"from loop - {val}\")"
   ]
  },
  {
   "cell_type": "markdown",
   "id": "11",
   "metadata": {},
   "source": [
    "<b>11. What is the one improvement that must be made to a function in order for it to become a generator function in the Python language?</b><br>Answer:<br>\n",
    "To make a function a generator we have to use <i>yield</i> keyword instead of return."
   ]
  },
  {
   "cell_type": "markdown",
   "id": "12",
   "metadata": {},
   "source": [
    "<b>12. Identify at least one benefit of generators.</b><br>Answer:<br>\n",
    "There is a lot of work in building an iterator in Python. We have to implement a class with &#95;&#95;iter&#95;&#95;() and &#95;&#95;next&#95;&#95;() method, keep track of internal states, and raise StopIteration when there are no values to be returned.\n",
    "\n",
    "This is both lengthy and counterintuitive. Generator comes to the rescue in such situations.\n",
    "\n",
    "Python generators are a simple way of creating iterators. All the work we mentioned above are automatically handled by generators in Python."
   ]
  },
  {
   "cell_type": "code",
   "execution_count": null,
   "id": "69d2f6ec",
   "metadata": {},
   "outputs": [],
   "source": []
  }
 ],
 "metadata": {
  "kernelspec": {
   "display_name": "Python 3 (ipykernel)",
   "language": "python",
   "name": "python3"
  },
  "language_info": {
   "codemirror_mode": {
    "name": "ipython",
    "version": 3
   },
   "file_extension": ".py",
   "mimetype": "text/x-python",
   "name": "python",
   "nbconvert_exporter": "python",
   "pygments_lexer": "ipython3",
   "version": "3.9.7"
  }
 },
 "nbformat": 4,
 "nbformat_minor": 5
}
