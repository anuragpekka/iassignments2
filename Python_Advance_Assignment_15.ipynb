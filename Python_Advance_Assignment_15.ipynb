{
 "cells": [
  {
   "cell_type": "markdown",
   "id": "994a9022",
   "metadata": {},
   "source": [
    "## Python_Advance_Assignment_15"
   ]
  },
  {
   "cell_type": "markdown",
   "id": "1",
   "metadata": {},
   "source": [
    "<b>1. What are the new features added in Python 3.8 version?\n",
    "    \n",
    "Answer:<br>\n",
    "1. The ___walrus operator (:=)___.<br>This allows you to assign variables inside an expression. The major benefit of this is to save you some lines of code and you can write even cleaner and compact code in Python."
   ]
  },
  {
   "cell_type": "code",
   "execution_count": 7,
   "id": "1dfc3e5a",
   "metadata": {},
   "outputs": [
    {
     "name": "stdout",
     "output_type": "stream",
     "text": [
      "Length of list is small, size=5\n"
     ]
    }
   ],
   "source": [
    "num = [1,2,3,4,5]\n",
    "if( (size:=len(num)) < 10 ):\n",
    "  print(f\"Length of list is small, size={size}\")"
   ]
  },
  {
   "cell_type": "markdown",
   "id": "b1cc3ea4",
   "metadata": {},
   "source": [
    "2. There is a ___new function parameter syntax (/)___ to highlight that some of the functions must be stated positionally and not by keyword arguments.<br>We also have an ___operator (*)___ that indicates that the arguments must be keyword only."
   ]
  },
  {
   "cell_type": "code",
   "execution_count": 10,
   "id": "7e2a22df",
   "metadata": {},
   "outputs": [
    {
     "name": "stdout",
     "output_type": "stream",
     "text": [
      "3 2 6 2\n",
      "1 3 4 5\n"
     ]
    }
   ],
   "source": [
    "def func(a, b, c, d):\n",
    "  print(a,b,c,d)\n",
    "\n",
    "#We can call this function however we want with keyword arguments or positions.\n",
    "func(d=2, a=3, b=2, c=6) #Valid - prints 3 2 6 2\n",
    "func(1,3,4,5) #Valid - prints 1 2 4 5"
   ]
  },
  {
   "cell_type": "markdown",
   "id": "2855e224",
   "metadata": {},
   "source": [
    "Now consider the following definition:"
   ]
  },
  {
   "cell_type": "code",
   "execution_count": 12,
   "id": "7ce99bb2",
   "metadata": {},
   "outputs": [],
   "source": [
    "def func( a,b,/,c,d,*,e,f ):\n",
    "  print(a,b,c,d,e,f )\n",
    "#This will impose the way we can call this function:"
   ]
  },
  {
   "cell_type": "markdown",
   "id": "b1346298",
   "metadata": {},
   "source": [
    "a and b arguments are positional only.<br>\n",
    "c and d arguments can be positional as well as keyword.<br>\n",
    "e and f arguments are keyword only.<br>"
   ]
  },
  {
   "cell_type": "code",
   "execution_count": 15,
   "id": "c48483da",
   "metadata": {},
   "outputs": [
    {
     "name": "stdout",
     "output_type": "stream",
     "text": [
      "1 2 3 4 5 6\n",
      "1 2 3 4 5 6\n"
     ]
    }
   ],
   "source": [
    "func(1,2, 3,4, e=5, f=6 ) #Valid - prints 1 2 3 4 5 6\n",
    "func(1,2, c=3,d=4, e=5, f=6 ) #Valid - prints 1 2 3 4 5 6"
   ]
  },
  {
   "cell_type": "code",
   "execution_count": 16,
   "id": "524a24a7",
   "metadata": {},
   "outputs": [
    {
     "ename": "SyntaxError",
     "evalue": "positional argument follows keyword argument (Temp/ipykernel_2352/4154560337.py, line 1)",
     "output_type": "error",
     "traceback": [
      "\u001b[1;36m  File \u001b[1;32m\"C:\\Users\\anu\\AppData\\Local\\Temp/ipykernel_2352/4154560337.py\"\u001b[1;36m, line \u001b[1;32m1\u001b[0m\n\u001b[1;33m    func(a=1,b=2, 3,4, e=5, f=6 ) #Invalid - Error : a and b arguments are positional only\u001b[0m\n\u001b[1;37m                                ^\u001b[0m\n\u001b[1;31mSyntaxError\u001b[0m\u001b[1;31m:\u001b[0m positional argument follows keyword argument\n"
     ]
    }
   ],
   "source": [
    "func(a=1,b=2, 3,4, e=5, f=6 ) #Invalid - Error : a and b arguments are positional only "
   ]
  },
  {
   "cell_type": "code",
   "execution_count": 20,
   "id": "a5947ce1",
   "metadata": {},
   "outputs": [
    {
     "ename": "SyntaxError",
     "evalue": "positional argument follows keyword argument (Temp/ipykernel_2352/2804356036.py, line 1)",
     "output_type": "error",
     "traceback": [
      "\u001b[1;36m  File \u001b[1;32m\"C:\\Users\\anu\\AppData\\Local\\Temp/ipykernel_2352/2804356036.py\"\u001b[1;36m, line \u001b[1;32m1\u001b[0m\n\u001b[1;33m    func(1,2, c=3,d=4, 5, 6 ) #Invalid - Error : e and f are keyword only arguments.\u001b[0m\n\u001b[1;37m                            ^\u001b[0m\n\u001b[1;31mSyntaxError\u001b[0m\u001b[1;31m:\u001b[0m positional argument follows keyword argument\n"
     ]
    }
   ],
   "source": [
    "func(1,2, c=3,d=4, 5, 6 ) #Invalid - Error : e and f are keyword only arguments."
   ]
  },
  {
   "cell_type": "markdown",
   "id": "3162f205",
   "metadata": {},
   "source": [
    "3. This release has made some ___improvements in the vector call___ which is a fast calling protocol for CPython.A new C API is introduced to optimize the calls of objects.This feature was already used in CPython but with the new C API, “fastcall” convention can be used by a user-defined extension class\n",
    "\n",
    "4. ___Pickle Protocol 5 with out-of-band data.___<br>Pickle is useful to transfer big amounts of data between Python processors to take full advantage of multicore processors.<br><br>It’s important to maximize the transfer speed by optimizing memory copies. Pickle protocol 5 now supports out-of-band data buffers and extra metadata is required.\n",
    "- PickleBuffer type for &#95;&#95;reduce&#95;ex&#95;&#95; returns out-of-band buffers.\n",
    "- buffer_callback parameter while pickling handles out-of-band data buffers.\n",
    "- buffers parameter while unpickling shows out-of-band data buffers.\n",
    "\n",
    "5. A small improvement has been made in the ___f-strings formattin.___ They can now support = operator in f-strings that allows debugging easier."
   ]
  },
  {
   "cell_type": "code",
   "execution_count": 19,
   "id": "4ae36694",
   "metadata": {},
   "outputs": [
    {
     "name": "stdout",
     "output_type": "stream",
     "text": [
      "A=5\n"
     ]
    }
   ],
   "source": [
    "#Example: f-string\n",
    "A=5\n",
    "print(f\"{A=}\") #prints : A=5"
   ]
  },
  {
   "cell_type": "markdown",
   "id": "e174a56e",
   "metadata": {},
   "source": [
    "6. ___Final qualifier :___<br>Python now supports the ___\"final\"___. Java programmers already know about this. It has 3 major uses:\n",
    "- Declaring a class final will prevent it from inheriting.\n",
    "- Declaring a variable final will prevent it from reassigning the value.\n",
    "- Declaring a method final will prevent it from being overridden.\n",
    "\n",
    "7. ___Literal types:___<br>Literal types are useful to know the literal value of an attribute or a variable. They are useful in type checking. Consider this expression:<br>0== False<br>This will give True as a result but 0 is of type integer and False is of type bool. So with literal, we can force type checks to be literally some specific type.\n",
    "\n"
   ]
  },
  {
   "cell_type": "markdown",
   "id": "1d89cf4d",
   "metadata": {},
   "source": [
    "<b>2. What is monkey patching in Python?\n",
    "\n",
    "Answer:<br>\n",
    "In Python, the term monkey patch refers to dynamic (or run-time) modifications of a class or module. In Python, we can actually change the behavior of code at run-time. "
   ]
  },
  {
   "cell_type": "code",
   "execution_count": 1,
   "id": "4356bedd",
   "metadata": {},
   "outputs": [],
   "source": [
    "class A:\n",
    "    def func(self):\n",
    "        print (\"func() is being called\")"
   ]
  },
  {
   "cell_type": "markdown",
   "id": "08598c8b",
   "metadata": {},
   "source": [
    "We use above class A in below code and change behavior of func() at run-time by assigning different value."
   ]
  },
  {
   "cell_type": "code",
   "execution_count": 2,
   "id": "cd822f67",
   "metadata": {},
   "outputs": [
    {
     "name": "stdout",
     "output_type": "stream",
     "text": [
      "monkey_f() is being called\n"
     ]
    }
   ],
   "source": [
    "def monkey_f(self):\n",
    "    print (\"monkey_f() is being called\")\n",
    "\n",
    "# replacing address of \"func\" with \"monkey_f\"\n",
    "A.func = monkey_f\n",
    "obj = A()\n",
    "\n",
    "# calling function \"func\" whose address got replaced\n",
    "# with function \"monkey_f()\"\n",
    "obj.func()\n"
   ]
  },
  {
   "cell_type": "markdown",
   "id": "9bdac155",
   "metadata": {},
   "source": [
    "<br><b>3. What is the difference between a shallow copy and deep copy?\n",
    "\n",
    "Answer:<br>\n",
    "___Deep copy___ is a process in which the copying process occurs recursively. It means first constructing a new collection object and then recursively populating it with copies of the child objects found in the original. In case of deep copy, a copy of object is copied in other object. It means that any changes made to a copy of object do not reflect in the original object. In python, this is implemented using “deepcopy()” function.\n",
    "    \n",
    "___Shallow copy___ means constructing a new collection object and then populating it with references to the child objects found in the original. The copying process does not recurse and therefore won’t create copies of the child objects themselves. In case of shallow copy, a reference of object is copied in other object. It means that any changes made to a copy of object do reflect in the original object. In python, this is implemented using “copy()” function."
   ]
  },
  {
   "cell_type": "markdown",
   "id": "070a471e",
   "metadata": {},
   "source": [
    "<br><b>4. What is the maximum possible length of an identifier?\n",
    "\n",
    "Answer:<br>\n",
    "The Python standard library is conservative and requires limiting lines to 79 characters (and docstrings/comments to 72)."
   ]
  },
  {
   "cell_type": "markdown",
   "id": "43da3fc0",
   "metadata": {},
   "source": [
    "<br><b>5. What is generator comprehension?</b><br>Answer:<br>\n",
    "A _generator_ is a way to allow us to generate arbitrarily-many items in a series, without having to store them all in memory at once. A generator is a special kind of iterator. Buily-in generator example range().\n",
    "\n",
    "Python provides a sleek syntax for defining a simple generator in a single line of code; this expression is known as a _generator comprehension._ The following syntax is extremely useful and will appear very frequently in Python code:\n",
    "<br>(&lt;expression&gt; for &lt;var&gt; in &lt;iterable&gt; [if &lt;condition&gt;])"
   ]
  },
  {
   "cell_type": "code",
   "execution_count": 4,
   "id": "7f34b2c3",
   "metadata": {},
   "outputs": [],
   "source": [
    "#Example: Generator for all the even numbers in 0-99: 0.. 2.. 4.. ... 98\n",
    "even_gen = (i for i in range(100) if i%2 == 0)"
   ]
  },
  {
   "cell_type": "code",
   "execution_count": null,
   "id": "b01b0b9f",
   "metadata": {},
   "outputs": [],
   "source": []
  }
 ],
 "metadata": {
  "kernelspec": {
   "display_name": "Python 3 (ipykernel)",
   "language": "python",
   "name": "python3"
  },
  "language_info": {
   "codemirror_mode": {
    "name": "ipython",
    "version": 3
   },
   "file_extension": ".py",
   "mimetype": "text/x-python",
   "name": "python",
   "nbconvert_exporter": "python",
   "pygments_lexer": "ipython3",
   "version": "3.9.7"
  }
 },
 "nbformat": 4,
 "nbformat_minor": 5
}
