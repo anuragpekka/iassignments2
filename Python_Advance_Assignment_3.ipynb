{
 "cells": [
  {
   "cell_type": "markdown",
   "id": "994a9022",
   "metadata": {},
   "source": [
    "## Python_Advance_Assignment_3"
   ]
  },
  {
   "cell_type": "markdown",
   "id": "1",
   "metadata": {},
   "source": [
    "<b>1. What is the concept of an abstract superclass?</b><br>Answer:<br>\n",
    "An abstract superclass has method declarations but no implementations. The child class is supposed to implement the method.\n",
    "Abstract classes are used when there has to be different impementations of same method in different child classes."
   ]
  },
  {
   "cell_type": "markdown",
   "id": "2",
   "metadata": {},
   "source": [
    "<b>2. What happens when a class statement's top level contains a basic assignment statement?</b><br>Answer:<br>\n",
    "Basic assignment in the top level of the class is class variables. Class variables can be accessed by using class names. "
   ]
  },
  {
   "cell_type": "markdown",
   "id": "3",
   "metadata": {},
   "source": [
    "<b>3. Why does a class need to manually call a superclass's \\_\\_init\\_\\_ method?</b><br>Answer:<br>\n",
    "Class needs to manually call superclass's \\_\\_init\\_\\_ method because Python itself automatically runs just one constructor—the lowest one in the tree. So, we need to call the super class's init in child classs's \\_\\_init\\_\\_"
   ]
  },
  {
   "cell_type": "markdown",
   "id": "4",
   "metadata": {},
   "source": [
    "<b>4. How can you augment, instead of completely replacing, an inherited method?</b><br>Answer:<br>\n",
    "To augment instead of completely replacing an inherited method, redefine it in a subclass, but call back to the superclass’s version of the method manually from the new version of the method in the subclass. That is, pass the self instance to the superclass’s version of the method manually: Superclass.method(self, ...)"
   ]
  },
  {
   "cell_type": "raw",
   "id": "56c1f4b0",
   "metadata": {},
   "source": [
    "from abc import abstractmethod, ABC\n",
    "class A(ABC):\n",
    "    @abstractmethod\n",
    "    def pp(self):\n",
    "        print('AAA')\n",
    "class B(A):\n",
    "    def pp(self):\n",
    "        A.pp(self)\n",
    "        print('BBB')\n",
    "\n",
    "b = B()\n",
    "b.pp()"
   ]
  },
  {
   "cell_type": "markdown",
   "id": "2555019b",
   "metadata": {},
   "source": [
    "<b>5. How is the local scope of a class different from that of a function?</b><br>Answer:<br>\n",
    "A class is a local scope and has access to enclosing local scopes, but it does not serve as an enclosing local scope to further nested code.<br> Like modules, the class local scope morphs into an attribute namespace after the class statement is run."
   ]
  }
 ],
 "metadata": {
  "kernelspec": {
   "display_name": "Python 3 (ipykernel)",
   "language": "python",
   "name": "python3"
  },
  "language_info": {
   "codemirror_mode": {
    "name": "ipython",
    "version": 3
   },
   "file_extension": ".py",
   "mimetype": "text/x-python",
   "name": "python",
   "nbconvert_exporter": "python",
   "pygments_lexer": "ipython3",
   "version": "3.9.7"
  }
 },
 "nbformat": 4,
 "nbformat_minor": 5
}
